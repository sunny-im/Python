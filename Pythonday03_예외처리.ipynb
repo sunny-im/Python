{
  "nbformat": 4,
  "nbformat_minor": 0,
  "metadata": {
    "colab": {
      "name": "Pythonday03_예외처리.ipynb",
      "provenance": [],
      "collapsed_sections": []
    },
    "kernelspec": {
      "name": "python3",
      "display_name": "Python 3"
    },
    "language_info": {
      "name": "python"
    }
  },
  "cells": [
    {
      "cell_type": "code",
      "metadata": {
        "colab": {
          "base_uri": "https://localhost:8080/",
          "height": 198
        },
        "id": "s0sleRmEbYgC",
        "outputId": "3210daec-11ba-49df-d544-a48d72ea91c7"
      },
      "source": [
        "# 예외처리 (오류처리)\n",
        "# 모든 프로그램에는 반드시 예외가 즉, 오류가 존재한다.\n",
        "\n",
        "# 오류는 언제 발생하나??\n",
        "\n",
        "f = open(\"없는파일.txt\",'r')"
      ],
      "execution_count": null,
      "outputs": [
        {
          "output_type": "error",
          "ename": "FileNotFoundError",
          "evalue": "ignored",
          "traceback": [
            "\u001b[0;31m---------------------------------------------------------------------------\u001b[0m",
            "\u001b[0;31mFileNotFoundError\u001b[0m                         Traceback (most recent call last)",
            "\u001b[0;32m<ipython-input-1-721a3304bd9a>\u001b[0m in \u001b[0;36m<module>\u001b[0;34m()\u001b[0m\n\u001b[1;32m      4\u001b[0m \u001b[0;31m# 오류는 언제 발생하나??\u001b[0m\u001b[0;34m\u001b[0m\u001b[0;34m\u001b[0m\u001b[0;34m\u001b[0m\u001b[0m\n\u001b[1;32m      5\u001b[0m \u001b[0;34m\u001b[0m\u001b[0m\n\u001b[0;32m----> 6\u001b[0;31m \u001b[0mf\u001b[0m \u001b[0;34m=\u001b[0m \u001b[0mopen\u001b[0m\u001b[0;34m(\u001b[0m\u001b[0;34m\"없는파일.txt\"\u001b[0m\u001b[0;34m,\u001b[0m\u001b[0;34m'r'\u001b[0m\u001b[0;34m)\u001b[0m\u001b[0;34m\u001b[0m\u001b[0;34m\u001b[0m\u001b[0m\n\u001b[0m",
            "\u001b[0;31mFileNotFoundError\u001b[0m: [Errno 2] No such file or directory: '없는파일.txt'"
          ]
        }
      ]
    },
    {
      "cell_type": "code",
      "metadata": {
        "colab": {
          "base_uri": "https://localhost:8080/",
          "height": 164
        },
        "id": "RH3WETQSb-TZ",
        "outputId": "f920a48e-e905-471a-8261-edcf473e9730"
      },
      "source": [
        "4 / 0"
      ],
      "execution_count": null,
      "outputs": [
        {
          "output_type": "error",
          "ename": "ZeroDivisionError",
          "evalue": "ignored",
          "traceback": [
            "\u001b[0;31m---------------------------------------------------------------------------\u001b[0m",
            "\u001b[0;31mZeroDivisionError\u001b[0m                         Traceback (most recent call last)",
            "\u001b[0;32m<ipython-input-2-87ac9c94a8c2>\u001b[0m in \u001b[0;36m<module>\u001b[0;34m()\u001b[0m\n\u001b[0;32m----> 1\u001b[0;31m \u001b[0;36m4\u001b[0m \u001b[0;34m/\u001b[0m \u001b[0;36m0\u001b[0m\u001b[0;34m\u001b[0m\u001b[0;34m\u001b[0m\u001b[0m\n\u001b[0m",
            "\u001b[0;31mZeroDivisionError\u001b[0m: division by zero"
          ]
        }
      ]
    },
    {
      "cell_type": "code",
      "metadata": {
        "id": "KpV-h6gnfOJ_"
      },
      "source": [
        "'''\n",
        "예외처리 사용법\n",
        "\n",
        "try :\n",
        "\n",
        "\n",
        "except : \n",
        "\n",
        "\n",
        "except :\n",
        "\n",
        "\n",
        "finally :   # 생략가능\n",
        "'''\n"
      ],
      "execution_count": null,
      "outputs": []
    },
    {
      "cell_type": "code",
      "metadata": {
        "colab": {
          "base_uri": "https://localhost:8080/",
          "height": 181
        },
        "id": "TAq1dEfCgqxL",
        "outputId": "2ddf056b-fd92-419f-d922-cd9ce3cee805"
      },
      "source": [
        "  a = [1,2]\n",
        "  print(a[2])  # 에러 발생! 예외처리 사용하려면 "
      ],
      "execution_count": null,
      "outputs": [
        {
          "output_type": "error",
          "ename": "IndexError",
          "evalue": "ignored",
          "traceback": [
            "\u001b[0;31m---------------------------------------------------------------------------\u001b[0m",
            "\u001b[0;31mIndexError\u001b[0m                                Traceback (most recent call last)",
            "\u001b[0;32m<ipython-input-5-01fb675f334b>\u001b[0m in \u001b[0;36m<module>\u001b[0;34m()\u001b[0m\n\u001b[1;32m      1\u001b[0m \u001b[0ma\u001b[0m \u001b[0;34m=\u001b[0m \u001b[0;34m[\u001b[0m\u001b[0;36m1\u001b[0m\u001b[0;34m,\u001b[0m\u001b[0;36m2\u001b[0m\u001b[0;34m]\u001b[0m\u001b[0;34m\u001b[0m\u001b[0;34m\u001b[0m\u001b[0m\n\u001b[0;32m----> 2\u001b[0;31m \u001b[0mprint\u001b[0m\u001b[0;34m(\u001b[0m\u001b[0ma\u001b[0m\u001b[0;34m[\u001b[0m\u001b[0;36m2\u001b[0m\u001b[0;34m]\u001b[0m\u001b[0;34m)\u001b[0m\u001b[0;34m\u001b[0m\u001b[0;34m\u001b[0m\u001b[0m\n\u001b[0m",
            "\u001b[0;31mIndexError\u001b[0m: list index out of range"
          ]
        }
      ]
    },
    {
      "cell_type": "code",
      "metadata": {
        "colab": {
          "base_uri": "https://localhost:8080/"
        },
        "id": "TCn65luvgFdS",
        "outputId": "b8da273f-1535-45d8-f4ff-4f0a50c106e7"
      },
      "source": [
        "try :\n",
        "  a = [1,2]\n",
        "  print(a[2])   # 인덱스 2는 데이터가 없으므로 에러가 날 것이다.\n",
        "\n",
        "except : \n",
        "  print('인덱스가 잘 못 되었습니다.')\n",
        "\n",
        "\n",
        "finally :   # 생략가능\n",
        "  print('종료합니다.')"
      ],
      "execution_count": null,
      "outputs": [
        {
          "output_type": "stream",
          "name": "stdout",
          "text": [
            "인덱스가 잘 못 되었습니다.\n",
            "종료합니다.\n"
          ]
        }
      ]
    },
    {
      "cell_type": "code",
      "metadata": {
        "colab": {
          "base_uri": "https://localhost:8080/"
        },
        "id": "ciLtXs1mgmx1",
        "outputId": "a09e0e61-372c-4492-8200-27062f4bffa2"
      },
      "source": [
        "try :\n",
        "  a = [1,2]\n",
        "  print(a[1])   # 에러가 없으므로\n",
        "\n",
        "except : \n",
        "  print('인덱스가 잘 못 되었습니다.')\n",
        "\n",
        "\n",
        "finally :   # 생략가능\n",
        "  print('종료합니다.')"
      ],
      "execution_count": null,
      "outputs": [
        {
          "output_type": "stream",
          "name": "stdout",
          "text": [
            "2\n",
            "종료합니다.\n"
          ]
        }
      ]
    },
    {
      "cell_type": "code",
      "metadata": {
        "colab": {
          "base_uri": "https://localhost:8080/"
        },
        "id": "7YvG8wILgpvg",
        "outputId": "fdd86017-d555-4862-e4f8-3ebe84b27782"
      },
      "source": [
        "try :\n",
        "  a = [1,2]\n",
        "  print(a[2])   # 에러 1\n",
        "  4 / 0   # 에러 2\n",
        "\n",
        "except ZeroDivisionError as e :   # 에러의 종류를 지정 가능하다. \n",
        "  print(e)\n",
        "\n",
        "except IndexError as e:\n",
        "  print(exit)\n",
        "\n",
        "finally :   # 생략가능\n",
        "  print('종료합니다.')"
      ],
      "execution_count": null,
      "outputs": [
        {
          "output_type": "stream",
          "name": "stdout",
          "text": [
            "<IPython.core.autocall.ZMQExitAutocall object at 0x7f77cd81bf50>\n",
            "종료합니다.\n"
          ]
        }
      ]
    },
    {
      "cell_type": "code",
      "metadata": {
        "id": "ZQ83pmmOi0Qi"
      },
      "source": [
        "# 예외 만들기\n",
        "\n",
        "class MyError(Exception) :\n",
        "  pass\n",
        "\n",
        "def say_nick(nick) :\n",
        "  if nick == \"바보\" :\n",
        "    raise MyError()\n",
        "  print(nick)\n"
      ],
      "execution_count": null,
      "outputs": []
    },
    {
      "cell_type": "code",
      "metadata": {
        "colab": {
          "base_uri": "https://localhost:8080/"
        },
        "id": "FdrB7YpGjTe_",
        "outputId": "511def35-e5c4-4d4b-f11f-2d50a8602de2"
      },
      "source": [
        "say_nick(\"천사\")"
      ],
      "execution_count": null,
      "outputs": [
        {
          "output_type": "stream",
          "name": "stdout",
          "text": [
            "천사\n"
          ]
        }
      ]
    },
    {
      "cell_type": "code",
      "metadata": {
        "colab": {
          "base_uri": "https://localhost:8080/",
          "height": 266
        },
        "id": "5_m7-QEcjXB8",
        "outputId": "72fc6e77-ef63-499d-e5de-c0cbe751e102"
      },
      "source": [
        "say_nick(\"바보\")"
      ],
      "execution_count": null,
      "outputs": [
        {
          "output_type": "error",
          "ename": "MyError",
          "evalue": "ignored",
          "traceback": [
            "\u001b[0;31m---------------------------------------------------------------------------\u001b[0m",
            "\u001b[0;31mMyError\u001b[0m                                   Traceback (most recent call last)",
            "\u001b[0;32m<ipython-input-10-e2fcd6d5b76b>\u001b[0m in \u001b[0;36m<module>\u001b[0;34m()\u001b[0m\n\u001b[0;32m----> 1\u001b[0;31m \u001b[0msay_nick\u001b[0m\u001b[0;34m(\u001b[0m\u001b[0;34m\"바보\"\u001b[0m\u001b[0;34m)\u001b[0m\u001b[0;34m\u001b[0m\u001b[0;34m\u001b[0m\u001b[0m\n\u001b[0m",
            "\u001b[0;32m<ipython-input-8-0ac957bc2b67>\u001b[0m in \u001b[0;36msay_nick\u001b[0;34m(nick)\u001b[0m\n\u001b[1;32m      6\u001b[0m \u001b[0;32mdef\u001b[0m \u001b[0msay_nick\u001b[0m\u001b[0;34m(\u001b[0m\u001b[0mnick\u001b[0m\u001b[0;34m)\u001b[0m \u001b[0;34m:\u001b[0m\u001b[0;34m\u001b[0m\u001b[0;34m\u001b[0m\u001b[0m\n\u001b[1;32m      7\u001b[0m   \u001b[0;32mif\u001b[0m \u001b[0mnick\u001b[0m \u001b[0;34m==\u001b[0m \u001b[0;34m\"바보\"\u001b[0m \u001b[0;34m:\u001b[0m\u001b[0;34m\u001b[0m\u001b[0;34m\u001b[0m\u001b[0m\n\u001b[0;32m----> 8\u001b[0;31m     \u001b[0;32mraise\u001b[0m \u001b[0mMyError\u001b[0m\u001b[0;34m(\u001b[0m\u001b[0;34m)\u001b[0m\u001b[0;34m\u001b[0m\u001b[0;34m\u001b[0m\u001b[0m\n\u001b[0m\u001b[1;32m      9\u001b[0m   \u001b[0mprint\u001b[0m\u001b[0;34m(\u001b[0m\u001b[0mnick\u001b[0m\u001b[0;34m)\u001b[0m\u001b[0;34m\u001b[0m\u001b[0;34m\u001b[0m\u001b[0m\n",
            "\u001b[0;31mMyError\u001b[0m: "
          ]
        }
      ]
    },
    {
      "cell_type": "code",
      "metadata": {
        "id": "VqA8S_6bjZvi"
      },
      "source": [
        "# 오류를 발생시킨 후 예외처리 하기\n",
        "\n",
        "class MyError(Exception) :\n",
        "  pass\n",
        "\n",
        "def say_nick(nick) :\n",
        "  if nick == \"바보\" :\n",
        "    raise MyError()\n",
        "  print(nick)\n",
        "\n",
        "  try :\n",
        "    say_nick(\"천사\")\n",
        "    say_nick(\"바보\")\n",
        "  except MyError :\n",
        "    print(\"허용되지 않는 별명입니다.\")"
      ],
      "execution_count": null,
      "outputs": []
    },
    {
      "cell_type": "code",
      "metadata": {
        "id": "xLHmoB7HkFEM"
      },
      "source": [
        ""
      ],
      "execution_count": null,
      "outputs": []
    }
  ]
}