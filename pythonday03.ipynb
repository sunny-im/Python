{
  "nbformat": 4,
  "nbformat_minor": 0,
  "metadata": {
    "colab": {
      "name": "pythonday03.ipynb",
      "provenance": [],
      "collapsed_sections": []
    },
    "kernelspec": {
      "name": "python3",
      "display_name": "Python 3"
    },
    "language_info": {
      "name": "python"
    }
  },
  "cells": [
    {
      "cell_type": "code",
      "metadata": {
        "colab": {
          "base_uri": "https://localhost:8080/"
        },
        "id": "STDakUFhUXk2",
        "outputId": "bdb9ef5b-c766-4721-ba96-31682595ec18"
      },
      "source": [
        "# 클래스\n",
        "# 왜 필요할까..? 반복되는 생성과정을 쉽고 편하게 구성한다.\n",
        "\n",
        "# 계산기 + 기능을 필요할때마다 계속 추가로 만들면 너무 번거롭다...\n",
        "\n",
        "result1 = 0\n",
        "result2 = 0\n",
        "\n",
        "def add1(num) :\n",
        "  global result1 \n",
        "  result1 += num   # result1 = result1 + num\n",
        "  return result1\n",
        "\n",
        "def add2(num) :\n",
        "  global result2 \n",
        "  result2 += num   # result2 = result2 + num\n",
        "  return result2\n",
        "\n",
        "\n",
        "print(add1(3))\n",
        "print(add1(4))\n",
        "print()\n",
        "print(add2(2))\n",
        "print(add2(3))"
      ],
      "execution_count": null,
      "outputs": [
        {
          "output_type": "stream",
          "name": "stdout",
          "text": [
            "3\n",
            "7\n",
            "\n",
            "2\n",
            "5\n"
          ]
        }
      ]
    },
    {
      "cell_type": "code",
      "metadata": {
        "colab": {
          "base_uri": "https://localhost:8080/"
        },
        "id": "RVrbhsL5i0iY",
        "outputId": "928288f2-c101-451b-f7d4-589d81b0d145"
      },
      "source": [
        "# 위 계산기를 클래스(틀,거푸집)로 만들어보자\n",
        "\n",
        "class Cal:\n",
        "  def __init__(self):\n",
        "    self.result = 0\n",
        "\n",
        "  def add(self,num):\n",
        "    self.result += num\n",
        "    return self.result\n",
        "\n",
        "cal1 = Cal()       # 클래스로 찍어낸 cal1,cal2 ... 객체는 클래스의 모든 것을 이용할 수 있다.\n",
        "cal2 = Cal()\n",
        "\n",
        "print(cal1.add(3))   # add 메소드를 직접 호출해 줘야 한다.\n",
        "print(cal1.add(4))\n",
        "print()\n",
        "print(cal2.add(2))\n",
        "print(cal2.add(3))"
      ],
      "execution_count": null,
      "outputs": [
        {
          "output_type": "stream",
          "name": "stdout",
          "text": [
            "3\n",
            "7\n",
            "\n",
            "2\n",
            "5\n"
          ]
        }
      ]
    },
    {
      "cell_type": "markdown",
      "metadata": {
        "id": "xTXcAKpCocA3"
      },
      "source": [
        "# **객체와 인스턴스**\n",
        "클래스로 만든 객체(인스턴스)\n",
        "\n",
        "a = Cookies()   a는 객체 Cookies라는 클래스\n",
        "                //a는 Cookies의 인스턴스 \n",
        "\n",
        "안스턴스라는 표현은 어떤 객체가 어떤 클래스로 만든 객체인지를 관계 위주로 설명할때 사용\n",
        "a는 인스턴스다.. 라는 표현보다는 a는 Cookies의 인스턴스다 라는 표현이 어울린다.\n",
        "a는 객체다.\n"
      ]
    },
    {
      "cell_type": "code",
      "metadata": {
        "id": "9wKlx-WwlUqK"
      },
      "source": [
        ""
      ],
      "execution_count": null,
      "outputs": []
    },
    {
      "cell_type": "code",
      "metadata": {
        "id": "thqYtYYUpwgB"
      },
      "source": [
        "a = FourCal()\n",
        "a.setdata(4.2)  # 클래스(FourCal) 안에 숫자들을 지정하는 메소드(setdata)\n",
        "print(a.add())  # 숫자들을 더한 결과를 돌려주는 메소드(add)\n",
        "print(a.mul())  # 숫자들을 곱한 결과를 돌려주는 메소드(mul)\n",
        "print(a.sub())  # 숫자들을 뺀 결과를 돌려주는 메소드(sub)\n",
        "print(a.div())  # 숫자들을 나눈 결과를 돌려주는 메소드(div)"
      ],
      "execution_count": null,
      "outputs": []
    },
    {
      "cell_type": "code",
      "metadata": {
        "id": "xUI8oUPmqw7g"
      },
      "source": [
        "class FourCal():\n",
        "  def setdata(self,first,second):   # def 함수정의 이지만 클래스 안에 있으므로 메소드\n",
        "    self.first = first\n",
        "    self.second = second\n",
        "  def add(self) :\n",
        "    result = self.first + self.second\n",
        "    return result\n",
        "  def mul(self) :\n",
        "    result = self.first * self.second\n",
        "    return result \n",
        "  def sub(self) :\n",
        "    result = self.first - self.second\n",
        "    return result \n",
        "  def div(self) :\n",
        "    result = self.first / self.second\n",
        "    return result"
      ],
      "execution_count": null,
      "outputs": []
    },
    {
      "cell_type": "code",
      "metadata": {
        "id": "5Gj6fN5Eq1PO"
      },
      "source": [
        "a = FourCal()   # 객체 생성\n",
        "b = FourCal()\n",
        "\n",
        "a.setdata(4,2)  # setdata메소드는 인수가 3개로 보여지나, 2개를 넣었는데 에러가 발생하지 않는다.. 그 이유는 self는 그 메소드를 호출한 객체의 자리이기 때문\n",
        "b.setdata(3,1)"
      ],
      "execution_count": null,
      "outputs": []
    },
    {
      "cell_type": "code",
      "metadata": {
        "colab": {
          "base_uri": "https://localhost:8080/"
        },
        "id": "oyHsYxu7sONX",
        "outputId": "00697b7f-f723-4ff5-c4f5-5720ac7ffff2"
      },
      "source": [
        "print(a.add())\n",
        "print(b.add())\n",
        "print()\n",
        "print(a.mul())\n",
        "print(b.mul())\n",
        "print()\n",
        "print(a.sub())\n",
        "print(b.sub())\n",
        "print()\n",
        "print(a.div())\n",
        "print(b.div())"
      ],
      "execution_count": null,
      "outputs": [
        {
          "output_type": "stream",
          "name": "stdout",
          "text": [
            "6\n",
            "4\n",
            "\n",
            "8\n",
            "3\n",
            "\n",
            "2\n",
            "2\n",
            "\n",
            "2.0\n",
            "3.0\n"
          ]
        }
      ]
    },
    {
      "cell_type": "code",
      "metadata": {
        "id": "uBg7x-szuq1V"
      },
      "source": [
        "# 생성자 constructor (중요 !!!!!)\n",
        "\n",
        "c = FourCal()"
      ],
      "execution_count": null,
      "outputs": []
    },
    {
      "cell_type": "code",
      "metadata": {
        "colab": {
          "base_uri": "https://localhost:8080/",
          "height": 283
        },
        "id": "3r4t-qj2vAXx",
        "outputId": "587ecaa5-e101-47a9-d27c-14ac3e7d8565"
      },
      "source": [
        "c.add()  # 객체생성"
      ],
      "execution_count": null,
      "outputs": [
        {
          "output_type": "error",
          "ename": "AttributeError",
          "evalue": "ignored",
          "traceback": [
            "\u001b[0;31m---------------------------------------------------------------------------\u001b[0m",
            "\u001b[0;31mAttributeError\u001b[0m                            Traceback (most recent call last)",
            "\u001b[0;32m<ipython-input-26-a9417a682879>\u001b[0m in \u001b[0;36m<module>\u001b[0;34m()\u001b[0m\n\u001b[0;32m----> 1\u001b[0;31m \u001b[0mc\u001b[0m\u001b[0;34m.\u001b[0m\u001b[0madd\u001b[0m\u001b[0;34m(\u001b[0m\u001b[0;34m)\u001b[0m\u001b[0;34m\u001b[0m\u001b[0;34m\u001b[0m\u001b[0m\n\u001b[0m",
            "\u001b[0;32m<ipython-input-22-8971ee0558a6>\u001b[0m in \u001b[0;36madd\u001b[0;34m(self)\u001b[0m\n\u001b[1;32m      4\u001b[0m     \u001b[0mself\u001b[0m\u001b[0;34m.\u001b[0m\u001b[0msecond\u001b[0m \u001b[0;34m=\u001b[0m \u001b[0msecond\u001b[0m\u001b[0;34m\u001b[0m\u001b[0;34m\u001b[0m\u001b[0m\n\u001b[1;32m      5\u001b[0m   \u001b[0;32mdef\u001b[0m \u001b[0madd\u001b[0m\u001b[0;34m(\u001b[0m\u001b[0mself\u001b[0m\u001b[0;34m)\u001b[0m \u001b[0;34m:\u001b[0m\u001b[0;34m\u001b[0m\u001b[0;34m\u001b[0m\u001b[0m\n\u001b[0;32m----> 6\u001b[0;31m     \u001b[0mresult\u001b[0m \u001b[0;34m=\u001b[0m \u001b[0mself\u001b[0m\u001b[0;34m.\u001b[0m\u001b[0mfirst\u001b[0m \u001b[0;34m+\u001b[0m \u001b[0mself\u001b[0m\u001b[0;34m.\u001b[0m\u001b[0msecond\u001b[0m\u001b[0;34m\u001b[0m\u001b[0;34m\u001b[0m\u001b[0m\n\u001b[0m\u001b[1;32m      7\u001b[0m     \u001b[0;32mreturn\u001b[0m \u001b[0mresult\u001b[0m\u001b[0;34m\u001b[0m\u001b[0;34m\u001b[0m\u001b[0m\n\u001b[1;32m      8\u001b[0m   \u001b[0;32mdef\u001b[0m \u001b[0mmul\u001b[0m\u001b[0;34m(\u001b[0m\u001b[0mself\u001b[0m\u001b[0;34m)\u001b[0m \u001b[0;34m:\u001b[0m\u001b[0;34m\u001b[0m\u001b[0;34m\u001b[0m\u001b[0m\n",
            "\u001b[0;31mAttributeError\u001b[0m: 'FourCal' object has no attribute 'first'"
          ]
        }
      ]
    },
    {
      "cell_type": "code",
      "metadata": {
        "id": "Ig_7lM5gv4-H"
      },
      "source": [
        "# 생성자.. 클래스가 객체를 생성할 때 무조건 제일 먼저 자동으로 시작된다.\n",
        "\n",
        "class FourCal():\n",
        "  def __init__(self,first,second) :   # 호출을 안해도 자동으로 실행\n",
        "    self.first = first\n",
        "    self.second = second\n",
        "\n",
        "  #def setdata(self,first,second):   # setdata를 호출해야만 실행\n",
        "  #  self.first = first\n",
        "  #  self.second = second\n",
        "  \n",
        "  def add(self) :\n",
        "    result = self.first + self.second\n",
        "    return result\n",
        "  def mul(self) :\n",
        "    result = self.first * self.second\n",
        "    return result \n",
        "  def sub(self) :\n",
        "    result = self.first - self.second\n",
        "    return result \n",
        "  def div(self) :\n",
        "    result = self.first / self.second\n",
        "    return result"
      ],
      "execution_count": null,
      "outputs": []
    },
    {
      "cell_type": "code",
      "metadata": {
        "id": "BvRpTGopwb56"
      },
      "source": [
        "d = FourCal(3,4)"
      ],
      "execution_count": null,
      "outputs": []
    },
    {
      "cell_type": "code",
      "metadata": {
        "colab": {
          "base_uri": "https://localhost:8080/"
        },
        "id": "pDxdFEMrwzD3",
        "outputId": "a1396d4f-5c02-4648-c654-282a903053e8"
      },
      "source": [
        "d.add()"
      ],
      "execution_count": null,
      "outputs": [
        {
          "output_type": "execute_result",
          "data": {
            "text/plain": [
              "7"
            ]
          },
          "metadata": {},
          "execution_count": 36
        }
      ]
    },
    {
      "cell_type": "markdown",
      "metadata": {
        "id": "NOg3rTvOxWTo"
      },
      "source": [
        "상속.. 물려받는다 .. 클래스가 다른 클래스의 기능을 물려받는다. 그대로 가져와서 사용한다.\n",
        "\n",
        "상송은 주로 기존 클래스를 변경하지 않고 기능을 추가하거나 기존 기능을 변경할 때 사용한다.\n",
        "\n",
        "클래스에 기능을 추가하려면 기존 클래스를 수정하면 되는데 왜 상속을 받아서 수정할까??\n",
        "\n",
        ">> 클래스가 수정이 허용되지 않을 수도 있고 라이브러리 형태로 제공 될 때는 상송을 사용해야만 한다."
      ]
    },
    {
      "cell_type": "code",
      "metadata": {
        "id": "H8TXe0iYxloE"
      },
      "source": [
        "# 위에 만든 FourCal을 상속할때 \n",
        "class MoreFourCal(FourCal) :\n",
        "  def pow(self):\n",
        "    result = self.first ** self.second    # 제곱을 계산하는 기능을 추가\n",
        "    return result"
      ],
      "execution_count": null,
      "outputs": []
    },
    {
      "cell_type": "code",
      "metadata": {
        "id": "sX4Z2H6Nx-ds"
      },
      "source": [
        "f = MoreFourCal(3,1)\n",
        "e = MoreFourCal(3,2)"
      ],
      "execution_count": null,
      "outputs": []
    },
    {
      "cell_type": "code",
      "metadata": {
        "colab": {
          "base_uri": "https://localhost:8080/"
        },
        "id": "JLaYo4K2yEe5",
        "outputId": "162e634d-1382-43d2-ee86-5de43824541b"
      },
      "source": [
        "f.add()"
      ],
      "execution_count": null,
      "outputs": [
        {
          "output_type": "execute_result",
          "data": {
            "text/plain": [
              "4"
            ]
          },
          "metadata": {},
          "execution_count": 45
        }
      ]
    },
    {
      "cell_type": "code",
      "metadata": {
        "colab": {
          "base_uri": "https://localhost:8080/"
        },
        "id": "boY-BrbCyI1n",
        "outputId": "180c4d3b-b70c-4fd9-ba58-349eb866bf87"
      },
      "source": [
        "e.pow()"
      ],
      "execution_count": null,
      "outputs": [
        {
          "output_type": "execute_result",
          "data": {
            "text/plain": [
              "9"
            ]
          },
          "metadata": {},
          "execution_count": 47
        }
      ]
    },
    {
      "cell_type": "code",
      "metadata": {
        "id": "ZlkeaQD914qn"
      },
      "source": [
        "# 메소드 오버라이딩 (메소드 덮어씌우기)\n",
        "a = FourCal(4,0)"
      ],
      "execution_count": null,
      "outputs": []
    },
    {
      "cell_type": "code",
      "metadata": {
        "colab": {
          "base_uri": "https://localhost:8080/"
        },
        "id": "vtQOyuGX2IP7",
        "outputId": "e5bc09a6-4e71-4768-9b4b-ebdb89ef4e14"
      },
      "source": [
        "a.add()"
      ],
      "execution_count": null,
      "outputs": [
        {
          "output_type": "execute_result",
          "data": {
            "text/plain": [
              "4"
            ]
          },
          "metadata": {},
          "execution_count": 49
        }
      ]
    },
    {
      "cell_type": "code",
      "metadata": {
        "colab": {
          "base_uri": "https://localhost:8080/",
          "height": 266
        },
        "id": "qpMKl-ku2KcQ",
        "outputId": "f75a54b2-401c-46e3-c0e8-611742cb0641"
      },
      "source": [
        "a.div()"
      ],
      "execution_count": null,
      "outputs": [
        {
          "output_type": "error",
          "ename": "ZeroDivisionError",
          "evalue": "ignored",
          "traceback": [
            "\u001b[0;31m---------------------------------------------------------------------------\u001b[0m",
            "\u001b[0;31mZeroDivisionError\u001b[0m                         Traceback (most recent call last)",
            "\u001b[0;32m<ipython-input-50-656340726662>\u001b[0m in \u001b[0;36m<module>\u001b[0;34m()\u001b[0m\n\u001b[0;32m----> 1\u001b[0;31m \u001b[0ma\u001b[0m\u001b[0;34m.\u001b[0m\u001b[0mdiv\u001b[0m\u001b[0;34m(\u001b[0m\u001b[0;34m)\u001b[0m\u001b[0;34m\u001b[0m\u001b[0;34m\u001b[0m\u001b[0m\n\u001b[0m",
            "\u001b[0;32m<ipython-input-34-326b3cb48f60>\u001b[0m in \u001b[0;36mdiv\u001b[0;34m(self)\u001b[0m\n\u001b[1;32m     20\u001b[0m     \u001b[0;32mreturn\u001b[0m \u001b[0mresult\u001b[0m\u001b[0;34m\u001b[0m\u001b[0;34m\u001b[0m\u001b[0m\n\u001b[1;32m     21\u001b[0m   \u001b[0;32mdef\u001b[0m \u001b[0mdiv\u001b[0m\u001b[0;34m(\u001b[0m\u001b[0mself\u001b[0m\u001b[0;34m)\u001b[0m \u001b[0;34m:\u001b[0m\u001b[0;34m\u001b[0m\u001b[0;34m\u001b[0m\u001b[0m\n\u001b[0;32m---> 22\u001b[0;31m     \u001b[0mresult\u001b[0m \u001b[0;34m=\u001b[0m \u001b[0mself\u001b[0m\u001b[0;34m.\u001b[0m\u001b[0mfirst\u001b[0m \u001b[0;34m/\u001b[0m \u001b[0mself\u001b[0m\u001b[0;34m.\u001b[0m\u001b[0msecond\u001b[0m\u001b[0;34m\u001b[0m\u001b[0;34m\u001b[0m\u001b[0m\n\u001b[0m\u001b[1;32m     23\u001b[0m     \u001b[0;32mreturn\u001b[0m \u001b[0mresult\u001b[0m\u001b[0;34m\u001b[0m\u001b[0;34m\u001b[0m\u001b[0m\n",
            "\u001b[0;31mZeroDivisionError\u001b[0m: division by zero"
          ]
        }
      ]
    },
    {
      "cell_type": "code",
      "metadata": {
        "id": "EkKZjtzw2NLe"
      },
      "source": [
        "# 클래스 기능 개선 -> 부모의 내용을 자식이 덮어씌워서 사용\n",
        "class SafeFourCal(FourCal) :\n",
        "  def div(self):\n",
        "    if self.second == 0:\n",
        "      return 0\n",
        "    else :\n",
        "      return self.first / self.second"
      ],
      "execution_count": null,
      "outputs": []
    },
    {
      "cell_type": "code",
      "metadata": {
        "colab": {
          "base_uri": "https://localhost:8080/"
        },
        "id": "vNn8SPly28p8",
        "outputId": "84f4c08f-5e02-402c-ea80-0db8736104a5"
      },
      "source": [
        "a = SafeFourCal(4,0)\n",
        "a.div()"
      ],
      "execution_count": null,
      "outputs": [
        {
          "output_type": "execute_result",
          "data": {
            "text/plain": [
              "0"
            ]
          },
          "metadata": {},
          "execution_count": 53
        }
      ]
    },
    {
      "cell_type": "code",
      "metadata": {
        "id": "2X9tiaF72__V"
      },
      "source": [
        "# 클래스 변수\n",
        "\n",
        "# 객체 변수는 각각의 다른 객체들이 서로 영향을 받지 않고 독립적으로 그 값을 유지한다는 점이다. \n",
        "# 하지만 경우에 따라 객체들이 같은 변수값을 유지할 필요성이 있다."
      ],
      "execution_count": null,
      "outputs": []
    },
    {
      "cell_type": "code",
      "metadata": {
        "id": "EqLptnWQ4LQw"
      },
      "source": [
        "class Family :\n",
        "  lastname = \"김\"   "
      ],
      "execution_count": null,
      "outputs": []
    },
    {
      "cell_type": "code",
      "metadata": {
        "colab": {
          "base_uri": "https://localhost:8080/"
        },
        "id": "KyaMrI0p447e",
        "outputId": "82ab3303-6a3a-4867-c661-a41e23f310ff"
      },
      "source": [
        "print(Family.lastname)    # 클래스 내에 있는 변수여서 객체생성 하지 않아도 바로 실행됨."
      ],
      "execution_count": null,
      "outputs": [
        {
          "output_type": "stream",
          "name": "stdout",
          "text": [
            "김\n"
          ]
        }
      ]
    },
    {
      "cell_type": "code",
      "metadata": {
        "id": "AjuU7AOI48Qn"
      },
      "source": [
        "a = Family()"
      ],
      "execution_count": null,
      "outputs": []
    },
    {
      "cell_type": "code",
      "metadata": {
        "id": "bGuKodIB5DFn"
      },
      "source": [
        "b = Family()"
      ],
      "execution_count": null,
      "outputs": []
    },
    {
      "cell_type": "code",
      "metadata": {
        "colab": {
          "base_uri": "https://localhost:8080/"
        },
        "id": "jJ8KjJQ75F0j",
        "outputId": "f82b319d-31a1-4430-cdc7-830fba02e6af"
      },
      "source": [
        "print(a.lastname)"
      ],
      "execution_count": null,
      "outputs": [
        {
          "output_type": "stream",
          "name": "stdout",
          "text": [
            "김\n"
          ]
        }
      ]
    },
    {
      "cell_type": "code",
      "metadata": {
        "colab": {
          "base_uri": "https://localhost:8080/"
        },
        "id": "ZksBzuPb5Hqc",
        "outputId": "0a3fc040-7cdc-4b54-fafb-28a1479aa59c"
      },
      "source": [
        "print(b.lastname)"
      ],
      "execution_count": null,
      "outputs": [
        {
          "output_type": "stream",
          "name": "stdout",
          "text": [
            "김\n"
          ]
        }
      ]
    },
    {
      "cell_type": "code",
      "metadata": {
        "colab": {
          "base_uri": "https://localhost:8080/"
        },
        "id": "30iuvbJ55IzN",
        "outputId": "b74ae957-12d8-4688-d800-e5ec184bac7f"
      },
      "source": [
        "# 주소값이 전부 동일하다....\n",
        "print(id(b.lastname))\n",
        "print(id(a.lastname))\n",
        "print(id(Family.lastname))"
      ],
      "execution_count": null,
      "outputs": [
        {
          "output_type": "stream",
          "name": "stdout",
          "text": [
            "140484977325360\n",
            "140484977325360\n",
            "140484977325360\n"
          ]
        }
      ]
    },
    {
      "cell_type": "markdown",
      "metadata": {
        "id": "f-C5p_3A5Qrq"
      },
      "source": [
        "# **모듈**\n",
        "모듈은 함수, 변수, 클래스 등을 모아 놓은 파일이다.\n",
        "\n",
        "모듈은 다른 파이썬 프로그램에서 만들 때 불러와 사용할 수 있게끔 만든 파이썬 파일\n",
        "\n",
        "실제로 파이썬 프로그래밍을 할 때 많은 모듈을 사용하게 된다. 남이 만든 모듈을 사용할 수도 있고 자신이 만든 모듈을 사용할 수도 있다.\n"
      ]
    },
    {
      "cell_type": "code",
      "metadata": {
        "id": "QABJ4clp5Tkc"
      },
      "source": [
        ""
      ],
      "execution_count": null,
      "outputs": []
    },
    {
      "cell_type": "code",
      "metadata": {
        "id": "btuN6N8i5W2f"
      },
      "source": [
        ""
      ],
      "execution_count": null,
      "outputs": []
    }
  ]
}