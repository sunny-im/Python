{
  "nbformat": 4,
  "nbformat_minor": 0,
  "metadata": {
    "colab": {
      "name": "PythonDay1.ipynb",
      "provenance": [],
      "collapsed_sections": []
    },
    "kernelspec": {
      "name": "python3",
      "display_name": "Python 3"
    },
    "language_info": {
      "name": "python"
    }
  },
  "cells": [
    {
      "cell_type": "markdown",
      "metadata": {
        "id": "DuXyWCNXESzv"
      },
      "source": [
        "## **1. 파이썬이란**\n",
        "1990년 귀도 반 로섬이 개발한 인터프리터 언어 (한 줄 한 줄씩 개발) (!= 컴파일러)\n",
        "코미디쇼에 나오는 제목에서 따왔다.(뱀 두마리...로고...)\n",
        "\n",
        "사전적인 의미는 고대 신화에 나오는 동굴에 살던 큰 뱀. 아폴로 신이 파이썬을 퇴치했다는 이야기가 전해진다.\n",
        "\n",
        "프로그래밍 교육을 위해서 많이 사용이 되며 동시에 기업의 실무에서도 많이 사용된다.(!= 베이직언어) \n",
        "\n",
        "구글의 소프트웨어의 50% 이상이 파이썬으로 작성되었다. 그 외에도 인스타그램, 드랍박스 등이 파이썬으로 작성.\n",
        "\n",
        "파이썬은 공동작업과 유지보수가 매우 편하다. 이미 다른언어로 작성된 프로그램들이 파이썬으로 재구성되고 있다.\n",
        "\n",
        " **1. 파이썬의 특징**\n",
        "  1. 파이썬은 인간다운 언어이다.\n",
        "  2. 파이썬은 문법이 쉬워 빠르게 배울 수 있다.\n",
        "  3. 파이썬은 무료이지만 강력하다.\n",
        "  4. 파이썬은 간결하다. \n",
        "  5. 파이썬은 프로그래밍을 즐기게 해준다.\n",
        "  6. 파이썬은 개발 속도가 빠르다.\n",
        "    Life is too short you need python....\n",
        "\n",
        "**2. 파이썬으로 할 수 있는 것들**\n",
        "  1. 시스템 유틸리티\n",
        "  2. GUI 프로그래밍 (pyqt)\n",
        "  3. C, C++ 결합 (glue언어)\n",
        "  4. 웹 프로그래밍 (flask, django) - 우리는 장고로 사용예정\n",
        "  5. 수치연산 (Numpy)\n",
        "  6. Database (Oracle, MySQL, MaridaDB)\n",
        "  7. 데이터분석 (Pandas)\n",
        "    - 시스템 밀접한 하드웨어, 모바일(안드로이드, 아이폰...) 잘 못함;;\n"
      ]
    },
    {
      "cell_type": "markdown",
      "metadata": {
        "id": "R-CjdtGGKrAH"
      },
      "source": [
        "## **2. 자료형**\n",
        "  리스트, 튜플, 딕셔너리, 셋 등...\n",
        "  \n",
        "  어떤 프로그래밍 언어든 그 언어의 자료형을 알고 이해할 수 있다면 그 언어의 절반을 터득한 것이다.\n",
        "\n",
        "프로그램의 기본이자 핵심단위이다.\n",
        "\n",
        "자료형을 충분히 이해하지 않고 프로그래밍을 시작하는 것은 기초공사가 마무리 되지 않은 상태에서 건물을 세우는 것과 같다."
      ]
    },
    {
      "cell_type": "code",
      "metadata": {
        "colab": {
          "base_uri": "https://localhost:8080/"
        },
        "id": "QnFzqDtCK8Qp",
        "outputId": "84c0abc1-31fc-4bcd-812a-2ed14acff8f9"
      },
      "source": [
        "# 숫자형 자료형 : 숫자 형태로 이루어진 자료형  1,2,3 == 정수 //  12.3 3.14 == 실수\n",
        "\n",
        "# 정수형\n",
        "\n",
        "a = 123\n",
        "print(a)\n",
        "\n",
        "b = 3.14\n",
        "print(b)\n"
      ],
      "execution_count": null,
      "outputs": [
        {
          "output_type": "stream",
          "name": "stdout",
          "text": [
            "123\n",
            "3.14\n",
            "Hi\n"
          ]
        }
      ]
    },
    {
      "cell_type": "code",
      "metadata": {
        "colab": {
          "base_uri": "https://localhost:8080/"
        },
        "id": "LLJ66OHnMfdb",
        "outputId": "ba769b18-db03-463e-e230-473389c490fd"
      },
      "source": [
        "# 숫자형 연산\n",
        "a = 3\n",
        "b = 4\n",
        "print(a+b)\n",
        "print(a-b)\n",
        "print(a/b)\n",
        "print(a**b)\n",
        "\n",
        "c = 7\n",
        "d = 3\n",
        "print(c%d)\n",
        "print(c//d)"
      ],
      "execution_count": null,
      "outputs": [
        {
          "output_type": "stream",
          "name": "stdout",
          "text": [
            "7\n",
            "-1\n",
            "0.75\n",
            "81\n",
            "1\n",
            "2\n"
          ]
        }
      ]
    },
    {
      "cell_type": "code",
      "metadata": {
        "colab": {
          "base_uri": "https://localhost:8080/"
        },
        "id": "mjss3YPCPSu2",
        "outputId": "0c43ff98-93c4-4ba2-a4b2-7e84e22e8571"
      },
      "source": [
        "b % a  # 몫은 버리고 나머지만 취하는 연산자, 홀수 / 짝수 / 배수 찾을때 많이 사용 "
      ],
      "execution_count": null,
      "outputs": [
        {
          "output_type": "execute_result",
          "data": {
            "text/plain": [
              "1"
            ]
          },
          "metadata": {},
          "execution_count": 7
        }
      ]
    },
    {
      "cell_type": "code",
      "metadata": {
        "colab": {
          "base_uri": "https://localhost:8080/"
        },
        "id": "4uE8m60IPpq2",
        "outputId": "c68f5c8c-535f-41ac-feea-86bfa0425988"
      },
      "source": [
        "a == b"
      ],
      "execution_count": null,
      "outputs": [
        {
          "output_type": "execute_result",
          "data": {
            "text/plain": [
              "False"
            ]
          },
          "metadata": {},
          "execution_count": 8
        }
      ]
    },
    {
      "cell_type": "code",
      "metadata": {
        "colab": {
          "base_uri": "https://localhost:8080/"
        },
        "id": "_VLrKLG9PzYF",
        "outputId": "2212c5cb-36e4-4be1-9a9b-db37a3aabc25"
      },
      "source": [
        "# 문자열 자료형 String\n",
        "\n",
        "a = \"Hello World\"   # 파이썬에서는 문자열 작성 시 큰 따옴표, 작은따옴표 둘다 사용 가능하다.\n",
        "b = 'Hello World'\n",
        "c = \"Python's\"      \n",
        "d = 'Python\\'s'\n",
        "e = 'He said \"Python is easy.\"'\n",
        "\n",
        "print(a)\n",
        "print(b)\n",
        "print(c)\n",
        "print(d)\n",
        "print(e)"
      ],
      "execution_count": null,
      "outputs": [
        {
          "output_type": "stream",
          "name": "stdout",
          "text": [
            "Hello World\n",
            "Hello World\n",
            "Python's\n",
            "Python's\n",
            "He said \"Python is easy.\"\n"
          ]
        }
      ]
    },
    {
      "cell_type": "code",
      "metadata": {
        "colab": {
          "base_uri": "https://localhost:8080/"
        },
        "id": "VoB91BIfQLfE",
        "outputId": "f333ec77-2995-48d0-c98f-4f683ca0303f"
      },
      "source": [
        "# 3중 작은 따옴표로 작성 시 줄바꿈 가능\n",
        "\n",
        "a = '''\n",
        "Hello \n",
        "World       \n",
        "!!!\n",
        "'''\n",
        "\n",
        "print(a)"
      ],
      "execution_count": null,
      "outputs": [
        {
          "output_type": "stream",
          "name": "stdout",
          "text": [
            "\n",
            "Hello \n",
            "World\n",
            "!!!\n",
            "\n"
          ]
        }
      ]
    },
    {
      "cell_type": "code",
      "metadata": {
        "colab": {
          "base_uri": "https://localhost:8080/"
        },
        "id": "1QKEdodcRR4F",
        "outputId": "fb22d1ee-7fcd-47c2-8a85-42bfd8bfa1c2"
      },
      "source": [
        "# /n으로도 줄바꿈이 가능하다.\n",
        "\n",
        "a = ' Hello \\n World \\n !!!'\n",
        "\n",
        "print(a)"
      ],
      "execution_count": null,
      "outputs": [
        {
          "output_type": "stream",
          "name": "stdout",
          "text": [
            " Hello \n",
            " World \n",
            " !!!\n"
          ]
        }
      ]
    },
    {
      "cell_type": "code",
      "metadata": {
        "colab": {
          "base_uri": "https://localhost:8080/"
        },
        "id": "TZICiNLoR7Qw",
        "outputId": "a650b725-e420-4c47-c238-8c6b7ec67922"
      },
      "source": [
        "# 리스트 자료형\n",
        "# 홀수들의 합을 계산 a =1, b=3. c = 5......\n",
        "# 리스트는 불편함을 해소한다. 여러개의 자료를 하나로 묶어 관리\n",
        "\n",
        "d = []\n",
        "z = [1,3,5,7,9]\n",
        "e = ['a','b','c']\n",
        "g = [1,2,'a','b']\n",
        "\n",
        "print(d)\n",
        "print(z)\n",
        "print(e)\n",
        "print(g)\n",
        "\n",
        "# 자료형에서 데이터를 꺼내 쓰는 방법\n",
        "# > 인덱싱 - 한 개씩 꺼내기 - 인덱싱은 0부터 시작한다. 끝에서부터는 -1로 시작한다.\n",
        "\n",
        "print(z[4])\n",
        "print(z[-1])\n",
        "print(z[0]+z[1])\n",
        "\n",
        "# > 슬라이싱 - 여러개를 한 번에 꺼내기 - [시작 인덱스 : 종료 인덱스+1]로 넣어야 한다. 미만까지 !!\n",
        "#                              - 시작점(0)부터 또는 마지막(-1)부터 시작하면 생략 가능하다. \n",
        "print(g[0:3])\n",
        "print(g[:2])\n",
        "print(g[1:])\n",
        "\n",
        "# 문자열에서도 인덱싱 / 슬라이싱 둘 다 사용 가능하다.\n",
        "q = '12345문자열'\n",
        "print(q[2])\n",
        "print(q[3:7])"
      ],
      "execution_count": null,
      "outputs": [
        {
          "output_type": "stream",
          "name": "stdout",
          "text": [
            "[]\n",
            "[1, 3, 5, 7, 9]\n",
            "['a', 'b', 'c']\n",
            "[1, 2, 'a', 'b']\n",
            "9\n",
            "9\n",
            "4\n",
            "[1, 2, 'a']\n",
            "[1, 2]\n",
            "[2, 'a', 'b']\n",
            "3\n",
            "45문자\n"
          ]
        }
      ]
    },
    {
      "cell_type": "code",
      "metadata": {
        "colab": {
          "base_uri": "https://localhost:8080/"
        },
        "id": "eX-84B4pVssk",
        "outputId": "d5a26113-caaa-4a46-a966-e92717090c7a"
      },
      "source": [
        "# 리스트 연산도 가능하다.\n",
        "\n",
        "a = [1,2,3]\n",
        "b = [4,5,6]\n",
        "print(a+b)\n",
        "print(a*3) # a 리스트를 3번 출력"
      ],
      "execution_count": null,
      "outputs": [
        {
          "output_type": "stream",
          "name": "stdout",
          "text": [
            "[1, 2, 3, 4, 5, 6]\n",
            "[1, 2, 3, 1, 2, 3, 1, 2, 3]\n"
          ]
        }
      ]
    },
    {
      "cell_type": "code",
      "metadata": {
        "colab": {
          "base_uri": "https://localhost:8080/"
        },
        "id": "P75L3VooTDFo",
        "outputId": "f41b512d-3d77-4d0f-9339-b01354da105d"
      },
      "source": [
        "# 리스트 내 요소 갯수 구하기\n",
        "\n",
        "a = [1,2,3,23,8]\n",
        "print(len(a))"
      ],
      "execution_count": null,
      "outputs": [
        {
          "output_type": "stream",
          "name": "stdout",
          "text": [
            "5\n"
          ]
        }
      ]
    },
    {
      "cell_type": "code",
      "metadata": {
        "colab": {
          "base_uri": "https://localhost:8080/"
        },
        "id": "jVT0r0WeWRaI",
        "outputId": "1311df5c-ed8f-4c00-d50c-dc14fa2a9cd1"
      },
      "source": [
        "# 리스트에서는 수정과 삭제가 가능하다. mutable (튜플은 수정과 삭제가 불가능하다. immutable)\n",
        "\n",
        "# 수정\n",
        "a = [1,2,3]\n",
        "a[2]=4\n",
        "print(a)\n",
        "\n",
        "# 삭제\n",
        "del a[1]\n",
        "print(a)"
      ],
      "execution_count": null,
      "outputs": [
        {
          "output_type": "stream",
          "name": "stdout",
          "text": [
            "[1, 2, 4]\n",
            "[1, 4]\n"
          ]
        }
      ]
    },
    {
      "cell_type": "code",
      "metadata": {
        "colab": {
          "base_uri": "https://localhost:8080/"
        },
        "id": "j7r4ypglXnf0",
        "outputId": "64d388d5-cefa-4a7e-cf3f-b354eb57fc46"
      },
      "source": [
        "# 리스트 관련 함수 정리\n",
        "# append : 리스트의 마지막에 요소를 추가 , 리스트 안에 리스트를 또 추가 할 수 있다.\n",
        "\n",
        "a = [1,2,3]\n",
        "a.append(4)\n",
        "print(a)\n",
        "a.append([5,6])\n",
        "print(a)"
      ],
      "execution_count": null,
      "outputs": [
        {
          "output_type": "stream",
          "name": "stdout",
          "text": [
            "[1, 2, 3, 4]\n",
            "[1, 2, 3, 4, [5, 6]]\n"
          ]
        }
      ]
    },
    {
      "cell_type": "code",
      "metadata": {
        "colab": {
          "base_uri": "https://localhost:8080/"
        },
        "id": "5fjszMvAYq29",
        "outputId": "2fe3effc-725c-47c2-8b10-feb46417d1d4"
      },
      "source": [
        "# sort - 리스트의 요소를 순서대로 정렬 (오름차순)\n",
        "\n",
        "a = [1,7,3,8,2]\n",
        "a.sort()\n",
        "print(a)\n",
        "\n",
        "b = ['c','d','e','h','a','b']\n",
        "b.sort()\n",
        "print(b)\n",
        "\n",
        "# reverse - 리스트의 요소를 내림차순으로\n",
        "a.sort()\n",
        "a.reverse()\n",
        "print(a)\n"
      ],
      "execution_count": null,
      "outputs": [
        {
          "output_type": "stream",
          "name": "stdout",
          "text": [
            "[1, 2, 3, 7, 8]\n",
            "['a', 'b', 'c', 'd', 'e', 'h']\n",
            "[8, 7, 3, 2, 1]\n"
          ]
        }
      ]
    },
    {
      "cell_type": "code",
      "metadata": {
        "colab": {
          "base_uri": "https://localhost:8080/"
        },
        "id": "kZhKQ5x5Zcpx",
        "outputId": "c8c53f08-440b-4d90-d80a-828bf7373c40"
      },
      "source": [
        "# index - 위치값을 반환\n",
        "\n",
        "a = [1,3,6,5,8,2]\n",
        "a.index(3)  # 요소 3의 위치값을 찾아냄\n"
      ],
      "execution_count": null,
      "outputs": [
        {
          "output_type": "execute_result",
          "data": {
            "text/plain": [
              "1"
            ]
          },
          "metadata": {},
          "execution_count": 50
        }
      ]
    },
    {
      "cell_type": "code",
      "metadata": {
        "colab": {
          "base_uri": "https://localhost:8080/"
        },
        "id": "eQ_RxiKSZu7k",
        "outputId": "d4543223-d541-4954-c113-b6212f163df8"
      },
      "source": [
        "# insert - 리스트의 특정 위치에 삽입\n",
        "a = [1,2,3]\n",
        "a.insert(0,4)  # 0번째에 요소4를 넣어라\n",
        "print(a)"
      ],
      "execution_count": null,
      "outputs": [
        {
          "output_type": "stream",
          "name": "stdout",
          "text": [
            "[4, 1, 2, 3]\n"
          ]
        }
      ]
    },
    {
      "cell_type": "code",
      "metadata": {
        "colab": {
          "base_uri": "https://localhost:8080/"
        },
        "id": "4MhNZqPoZ7A0",
        "outputId": "8870c071-5c68-406b-e5a0-2f0f30ea5ec7"
      },
      "source": [
        "# remove - 리스트의 첫 번째로 나오는 값을 삭제\n",
        "\n",
        "a= [1,3,4,2,5,1,2,4]\n",
        "a.remove(4)  # 중복되어있는 요소 4를 삭제하는데 첫 번째 나오는 걸 삭제\n",
        "print(a)"
      ],
      "execution_count": null,
      "outputs": [
        {
          "output_type": "stream",
          "name": "stdout",
          "text": [
            "[1, 3, 2, 5, 1, 2, 4]\n"
          ]
        }
      ]
    },
    {
      "cell_type": "code",
      "metadata": {
        "colab": {
          "base_uri": "https://localhost:8080/"
        },
        "id": "SSmMz8-6aNkC",
        "outputId": "dbb6cde1-7683-435d-f04d-c46053f7a017"
      },
      "source": [
        "# pop - 가장 마지막 요소 삭제\n",
        "\n",
        "a = [1,2,3]\n",
        "a.pop()\n",
        "print(a)"
      ],
      "execution_count": null,
      "outputs": [
        {
          "output_type": "stream",
          "name": "stdout",
          "text": [
            "[1, 2]\n"
          ]
        }
      ]
    },
    {
      "cell_type": "code",
      "metadata": {
        "colab": {
          "base_uri": "https://localhost:8080/"
        },
        "id": "Qp-UzssBabIj",
        "outputId": "98948b80-a390-436b-f170-c778242563f3"
      },
      "source": [
        "# count - 리스트에서 특정원소가 몇 개 있는지 확인\n",
        "\n",
        "a = [1,2,3,1]\n",
        "a.count(1)  # 리스트의 1의 갯수를 찾는다\n",
        "\n"
      ],
      "execution_count": null,
      "outputs": [
        {
          "output_type": "execute_result",
          "data": {
            "text/plain": [
              "2"
            ]
          },
          "metadata": {},
          "execution_count": 56
        }
      ]
    },
    {
      "cell_type": "code",
      "metadata": {
        "colab": {
          "base_uri": "https://localhost:8080/"
        },
        "id": "TLZc9w4MarkC",
        "outputId": "bcefa7ff-3906-41d9-9a69-003cb325b683"
      },
      "source": [
        "# extend - 리스트에 리스트를 더한다. -> 하나의 리스트로 통합을 한다.\n",
        "\n",
        "a = [1,2,3,4]\n",
        "a.extend([4,5])\n",
        "print(a)"
      ],
      "execution_count": null,
      "outputs": [
        {
          "output_type": "stream",
          "name": "stdout",
          "text": [
            "[1, 2, 3, 4, 4, 5]\n"
          ]
        }
      ]
    },
    {
      "cell_type": "code",
      "metadata": {
        "id": "XznpWSucriD9"
      },
      "source": [
        "# 튜플 immutable\n",
        "# 튜플은 리스트와 거의 비슷하다. 차이점은\n",
        "# 1. 리스트는 [] 대괄호 //  튜플은 () 소괄호\n",
        "# 2. 리스트는 수정/삭제가 가능, 튜플은 수정/삭제 불가능\n",
        "\n",
        "# 튜플은 프로그램 실행되는 동안 그 값이 항상 변하지 않기를 바란다거나 값이 바뀔까 걱정하고 싶지 않을 때 튜플을 사용한다."
      ],
      "execution_count": null,
      "outputs": []
    },
    {
      "cell_type": "code",
      "metadata": {
        "id": "v9ujGfKgtCbO"
      },
      "source": [
        "t1 = ()  #빈 튜플을 만들 수는 있으나 수정 불가능하여 딱히 사용하지는 않음...\n",
        "t2 = (1,) # 튜플은 원소를 하나만 담을 떄는 쉽표를 붙인다. 튜플은 괄호 생략이 가능하다.\n",
        "t3 = (1,2,3)\n",
        "t4 = 1,2,3\n",
        "t5 = ('a','b','c')\n"
      ],
      "execution_count": null,
      "outputs": []
    },
    {
      "cell_type": "code",
      "metadata": {
        "id": "ipUiG215uT5z"
      },
      "source": [
        "t1 = (1,2,'a','b')\n",
        "# del t1[0]    삭제불가 : TypeError: 'tuple' object doesn't support item deletion\n",
        "#t1[0] = 'c'   수정불가 : TypeError: 'tuple' object does not support item assignment"
      ],
      "execution_count": null,
      "outputs": []
    },
    {
      "cell_type": "code",
      "metadata": {
        "colab": {
          "base_uri": "https://localhost:8080/"
        },
        "id": "dSRP1quIuoZ8",
        "outputId": "5aba44bf-9c0c-49d5-98f2-a3a0f212a3fb"
      },
      "source": [
        "# 튜플에서의 인덱싱\n",
        "t1 = (1,2,'a','b')\n",
        "print(t1[0])\n",
        "\n",
        "# 튜플에서의 슬라이싱\n",
        "t2 = (1,2,'a','b')\n",
        "print(t2[1:3])"
      ],
      "execution_count": null,
      "outputs": [
        {
          "output_type": "stream",
          "name": "stdout",
          "text": [
            "1\n",
            "(2, 'a')\n"
          ]
        }
      ]
    },
    {
      "cell_type": "code",
      "metadata": {
        "colab": {
          "base_uri": "https://localhost:8080/"
        },
        "id": "E1mySE5KvTj4",
        "outputId": "d0e6bac5-bbed-4e31-f590-087e2a25a62f"
      },
      "source": [
        "# 튜플 연선다\n",
        "t1 = (1,2,'a','b')\n",
        "t2 = (3,4)\n",
        "\n",
        "print(t1+t2)\n",
        "print(t2*3)"
      ],
      "execution_count": null,
      "outputs": [
        {
          "output_type": "stream",
          "name": "stdout",
          "text": [
            "(1, 2, 'a', 'b', 3, 4)\n",
            "(3, 4, 3, 4, 3, 4)\n"
          ]
        }
      ]
    },
    {
      "cell_type": "code",
      "metadata": {
        "colab": {
          "base_uri": "https://localhost:8080/"
        },
        "id": "Lz4YBOZ4vhqL",
        "outputId": "a626def7-53b5-4b9f-d874-5f202e214c40"
      },
      "source": [
        "# 튜플 길이구하기\n",
        "t1 = (1,2,'a','b')\n",
        "print(len(t1))"
      ],
      "execution_count": null,
      "outputs": [
        {
          "output_type": "stream",
          "name": "stdout",
          "text": [
            "4\n"
          ]
        }
      ]
    },
    {
      "cell_type": "markdown",
      "metadata": {
        "id": "ICtxVuz5vqdK"
      },
      "source": [
        "# **딕셔너리**\n",
        "이름 = 홍길동, 나이 = 15, 성별 = 남자 >>> 대응관계를 나타낼 수 있는 자료형\n",
        "\n",
        "다른언어에서는 map, hash라는 형태로 나타냄\n",
        "\n",
        "키 값과 밸류 값으로 구성한다.\n",
        "\n",
        "1. 딕셔너리는 인덱싱과 슬라이싱이 불가능하다. 순서가 없다.\n",
        "2. 수정, 편집 가능하다.mutable\n",
        "3. 중괄호 {} 를 이용하며 {kwy:value}로 구성된다. ( 리스트[] , 튜플() )\n"
      ]
    },
    {
      "cell_type": "code",
      "metadata": {
        "colab": {
          "base_uri": "https://localhost:8080/"
        },
        "id": "32hnEV4pw7zH",
        "outputId": "a0ddc7b6-053d-49b9-895a-c3417ff9385a"
      },
      "source": [
        "dic = {'name' : 'pey' , 'phone' : '01011111111', 'birth' : '1212'}\n",
        "print(dic)"
      ],
      "execution_count": null,
      "outputs": [
        {
          "output_type": "stream",
          "name": "stdout",
          "text": [
            "{'name': 'pey', 'phone': '01011111111', 'birth': '1212'}\n"
          ]
        }
      ]
    },
    {
      "cell_type": "code",
      "metadata": {
        "colab": {
          "base_uri": "https://localhost:8080/"
        },
        "id": "D-uL3D6GxeSg",
        "outputId": "e92e4a0a-cfca-46ed-9059-74c45002044b"
      },
      "source": [
        "# 밸류값에 리스트를 넣을 수 있다.\n",
        "a = {'b' : [1,2,3]}\n",
        "print(a)"
      ],
      "execution_count": null,
      "outputs": [
        {
          "output_type": "stream",
          "name": "stdout",
          "text": [
            "{'b': [1, 2, 3]}\n"
          ]
        }
      ]
    },
    {
      "cell_type": "code",
      "metadata": {
        "colab": {
          "base_uri": "https://localhost:8080/"
        },
        "id": "1nA3Wx-xyAOQ",
        "outputId": "f4b130a0-686f-4e63-c67a-d672fb469260"
      },
      "source": [
        "# 딕셔너리는 수정이 가능하다.\n",
        "a[3] = 'apple'  # 키값 3, 밸류값 apple를 추가한다.\n",
        "print(a)"
      ],
      "execution_count": null,
      "outputs": [
        {
          "output_type": "stream",
          "name": "stdout",
          "text": [
            "{'b': [1, 2, 3], 3: 'apple'}\n"
          ]
        }
      ]
    },
    {
      "cell_type": "code",
      "metadata": {
        "colab": {
          "base_uri": "https://localhost:8080/"
        },
        "id": "ngZV_4tmyCks",
        "outputId": "9e208b44-b138-4e75-e361-f4397dfab044"
      },
      "source": [
        "# 딕셔너리는 삭제가 가능하다.\n",
        "del a[3] # 키값이 3인 키와 밸류를 삭제한다.\n",
        "print(a)"
      ],
      "execution_count": null,
      "outputs": [
        {
          "output_type": "stream",
          "name": "stdout",
          "text": [
            "{'b': [1, 2, 3]}\n"
          ]
        }
      ]
    },
    {
      "cell_type": "code",
      "metadata": {
        "colab": {
          "base_uri": "https://localhost:8080/"
        },
        "id": "sKRxhOQVy0oj",
        "outputId": "4cdedf33-1d7c-4259-ac62-30b388418342"
      },
      "source": [
        "# 딕셔너리로 key값을 이용해서 value값 가져오기\n",
        "grade = {'pey':10,'julliet':9}\n",
        "grade['pey'] # 키값 pey를 이용해서 밸류값을 가져온다."
      ],
      "execution_count": null,
      "outputs": [
        {
          "output_type": "execute_result",
          "data": {
            "text/plain": [
              "10"
            ]
          },
          "metadata": {},
          "execution_count": 81
        }
      ]
    },
    {
      "cell_type": "code",
      "metadata": {
        "colab": {
          "base_uri": "https://localhost:8080/"
        },
        "id": "cxNGcZdbzNeq",
        "outputId": "41ea54d9-8e90-45f8-8325-bbdfeaaef655"
      },
      "source": [
        "# 딕셔너리 사용 시 주의사항\n",
        "# 1. key값이 고유한 값을 사용하기 때문에 중복되는 키값을 설정하면 하나를 제외한 나머지 모든 것들은 모두 무시된다.\n",
        "a ={1:'a',1:'b'}\n",
        "print(a)  # 키 값이 중복되면, 하나만 출력된다.\n",
        "\n",
        "# 2. key 값에 리스트는 사용 할 수 없다. Tuple은 키 값으로 사용할 수 있다.\n",
        "#    리스트는 그 값이 변할 수 있기 때문에 key로 쓸 수 없다.\n",
        "#b = {[1.2] : 'hi'}\n",
        "#print(b)  # TypeError: unhashable type: 'list'\n",
        "\n",
        "c = {(1,2) : 'hi'}\n",
        "print(c)"
      ],
      "execution_count": null,
      "outputs": [
        {
          "output_type": "stream",
          "name": "stdout",
          "text": [
            "{1: 'b'}\n",
            "{(1, 2): 'hi'}\n"
          ]
        }
      ]
    },
    {
      "cell_type": "code",
      "metadata": {
        "colab": {
          "base_uri": "https://localhost:8080/"
        },
        "id": "NBgc0ZIOziSv",
        "outputId": "7852e166-99e6-48c4-a4a4-b83aee06c2fe"
      },
      "source": [
        "# 딕셔너리에서 많이 사용 되는 함수들\n",
        "# keys : key값만 추출\n",
        "\n",
        "a = {1:'a',2:'b',3:'c'}\n",
        "a.keys()\n"
      ],
      "execution_count": null,
      "outputs": [
        {
          "output_type": "execute_result",
          "data": {
            "text/plain": [
              "dict_keys([1, 2, 3])"
            ]
          },
          "metadata": {},
          "execution_count": 91
        }
      ]
    },
    {
      "cell_type": "code",
      "metadata": {
        "colab": {
          "base_uri": "https://localhost:8080/"
        },
        "id": "wafduYb41WdO",
        "outputId": "15870bc1-50e3-45cc-b3dc-badbd05c25ac"
      },
      "source": [
        "# values : Values 값만 추출\n",
        "a = {1:'a',2:'b',3:'c'}\n",
        "a.values()"
      ],
      "execution_count": null,
      "outputs": [
        {
          "output_type": "execute_result",
          "data": {
            "text/plain": [
              "dict_values(['a', 'b', 'c'])"
            ]
          },
          "metadata": {},
          "execution_count": 90
        }
      ]
    },
    {
      "cell_type": "code",
      "metadata": {
        "colab": {
          "base_uri": "https://localhost:8080/"
        },
        "id": "JAcxPmH61bi9",
        "outputId": "8fea4b0f-7f15-4845-b2cc-55fdd232c9f0"
      },
      "source": [
        "# items : 모든 아이템을 추출\n",
        "a = {1:'a',2:'b',3:'c'}\n",
        "a.items()"
      ],
      "execution_count": null,
      "outputs": [
        {
          "output_type": "execute_result",
          "data": {
            "text/plain": [
              "dict_items([(1, 'a'), (2, 'b'), (3, 'c')])"
            ]
          },
          "metadata": {},
          "execution_count": 92
        }
      ]
    },
    {
      "cell_type": "code",
      "metadata": {
        "colab": {
          "base_uri": "https://localhost:8080/"
        },
        "id": "dgUpsFib1lXl",
        "outputId": "bd5ecccd-ea88-4c42-e75d-4047c1b37e42"
      },
      "source": [
        "# clear : 전부 삭제\n",
        "a = {1:'a',2:'b',3:'c'}\n",
        "a.clear()\n",
        "print(a)"
      ],
      "execution_count": null,
      "outputs": [
        {
          "output_type": "stream",
          "name": "stdout",
          "text": [
            "{}\n"
          ]
        }
      ]
    },
    {
      "cell_type": "code",
      "metadata": {
        "colab": {
          "base_uri": "https://localhost:8080/"
        },
        "id": "5ec5CEbd1sRI",
        "outputId": "e28b16bd-8e3c-4760-fac1-f4d0dcf7c3b3"
      },
      "source": [
        "# in  : key in value 키 캆에 맞는 밸류값이 있는지 true /faulse\n",
        "a = {1:'a',2:'b',3:'c'}\n",
        "print(1 in a)\n",
        "print(4 in a)"
      ],
      "execution_count": null,
      "outputs": [
        {
          "output_type": "stream",
          "name": "stdout",
          "text": [
            "True\n",
            "False\n"
          ]
        }
      ]
    },
    {
      "cell_type": "code",
      "metadata": {
        "colab": {
          "base_uri": "https://localhost:8080/"
        },
        "id": "IxVXiWQy5Hkd",
        "outputId": "b0fb74f8-e450-4c14-c036-b681e743ba26"
      },
      "source": [
        "# set (집합) - 사용빈도가 많진 않다.\n",
        "# 중복을 허용하지 않는다. \n",
        "# 순서가 없다. (인덱싱, 슬라이싱 불가능\u001d)\n",
        "# 리스트나 튜플은 순서가 있기 때문에 ordered 인덱싱을 통해 값을 얻을 수 있다.\n",
        "# set은 순서가 없기 때문에 인덱싱으로 값을 얻을 수 없다.\n",
        "# 중복을 허용하지 않는 set의 특징으로 자료형의 중복을 제거하기 위한 필터 역할로 사용된다.\n",
        "\n",
        "s1 = set([1,2,3])\n",
        "print(s1)"
      ],
      "execution_count": null,
      "outputs": [
        {
          "output_type": "stream",
          "name": "stdout",
          "text": [
            "{1, 2, 3}\n"
          ]
        }
      ]
    },
    {
      "cell_type": "code",
      "metadata": {
        "colab": {
          "base_uri": "https://localhost:8080/"
        },
        "id": "cs0MEpzV5bg9",
        "outputId": "06a3da02-ba09-4a1b-aefc-0b445814fe2f"
      },
      "source": [
        "s2 = set(\"Hello\")\n",
        "print(s2)"
      ],
      "execution_count": null,
      "outputs": [
        {
          "output_type": "stream",
          "name": "stdout",
          "text": [
            "{'H', 'l', 'o', 'e'}\n"
          ]
        }
      ]
    },
    {
      "cell_type": "code",
      "metadata": {
        "colab": {
          "base_uri": "https://localhost:8080/"
        },
        "id": "7M47CwjH61Pd",
        "outputId": "2079ffb6-38ae-42a0-acd0-34e1b1cdf9a8"
      },
      "source": [
        "s1 = set([1,2,3])\n",
        "print(s1)\n",
        "type(s1)"
      ],
      "execution_count": null,
      "outputs": [
        {
          "output_type": "stream",
          "name": "stdout",
          "text": [
            "{1, 2, 3}\n"
          ]
        },
        {
          "output_type": "execute_result",
          "data": {
            "text/plain": [
              "set"
            ]
          },
          "metadata": {},
          "execution_count": 100
        }
      ]
    },
    {
      "cell_type": "code",
      "metadata": {
        "colab": {
          "base_uri": "https://localhost:8080/"
        },
        "id": "Y1ZIo8ss67e6",
        "outputId": "8feb7401-e9c9-4606-8595-e990cb206469"
      },
      "source": [
        "li = list(s1)\n",
        "print(li)\n",
        "type(li)"
      ],
      "execution_count": null,
      "outputs": [
        {
          "output_type": "stream",
          "name": "stdout",
          "text": [
            "[1, 2, 3]\n"
          ]
        },
        {
          "output_type": "execute_result",
          "data": {
            "text/plain": [
              "list"
            ]
          },
          "metadata": {},
          "execution_count": 101
        }
      ]
    },
    {
      "cell_type": "code",
      "metadata": {
        "colab": {
          "base_uri": "https://localhost:8080/"
        },
        "id": "E9CQ1p8W7XCZ",
        "outputId": "20b4717b-86a3-4c53-cd5e-c25fda6d53d3"
      },
      "source": [
        "# 교집합 합집합 차집합\n",
        "\n",
        "s1 = set([1,2,3,4,5,6])\n",
        "s2 = set([4,5,6,7,8,9])\n",
        "\n",
        "# 교집합\n",
        "print(s1&s2)\n",
        "s1.intersection(s2)"
      ],
      "execution_count": null,
      "outputs": [
        {
          "output_type": "stream",
          "name": "stdout",
          "text": [
            "{4, 5, 6}\n"
          ]
        },
        {
          "output_type": "execute_result",
          "data": {
            "text/plain": [
              "{4, 5, 6}"
            ]
          },
          "metadata": {},
          "execution_count": 103
        }
      ]
    },
    {
      "cell_type": "code",
      "metadata": {
        "colab": {
          "base_uri": "https://localhost:8080/"
        },
        "id": "q9_O1tq47yeo",
        "outputId": "80333134-27ec-4ed3-ff59-09c2c701b124"
      },
      "source": [
        "# 합집합\n",
        "print(s1|s2) \n",
        "s1.union(s2)"
      ],
      "execution_count": null,
      "outputs": [
        {
          "output_type": "stream",
          "name": "stdout",
          "text": [
            "{1, 2, 3, 4, 5, 6, 7, 8, 9}\n"
          ]
        },
        {
          "output_type": "execute_result",
          "data": {
            "text/plain": [
              "{1, 2, 3, 4, 5, 6, 7, 8, 9}"
            ]
          },
          "metadata": {},
          "execution_count": 105
        }
      ]
    },
    {
      "cell_type": "code",
      "metadata": {
        "colab": {
          "base_uri": "https://localhost:8080/"
        },
        "id": "UeZ-nkDx8CQs",
        "outputId": "7719b0c5-be95-4a73-ed10-557eb0aaeb9d"
      },
      "source": [
        "# 차집합\n",
        "print(s1-s2)\n",
        "print(s2-s1)"
      ],
      "execution_count": null,
      "outputs": [
        {
          "output_type": "stream",
          "name": "stdout",
          "text": [
            "{1, 2, 3}\n",
            "{8, 9, 7}\n"
          ]
        }
      ]
    },
    {
      "cell_type": "code",
      "metadata": {
        "colab": {
          "base_uri": "https://localhost:8080/"
        },
        "id": "weTJ3uZY8ueF",
        "outputId": "be6222d1-6760-4905-a3c1-1edc880759ee"
      },
      "source": [
        "# 집합관련 함수들\n",
        "\n",
        "# add : 한 개 추가\n",
        "s1 = set([1,2,3])\n",
        "s1.add(4)\n",
        "print(s1)"
      ],
      "execution_count": null,
      "outputs": [
        {
          "output_type": "stream",
          "name": "stdout",
          "text": [
            "{1, 2, 3, 4}\n"
          ]
        }
      ]
    },
    {
      "cell_type": "code",
      "metadata": {
        "colab": {
          "base_uri": "https://localhost:8080/"
        },
        "id": "hKcvoxel89Gg",
        "outputId": "1decaa00-3291-4857-8057-59c06f04609c"
      },
      "source": [
        "# update : 여러개 추가\n",
        "s1 = set([1,2,3])\n",
        "s1.update([4,5,6])\n",
        "print(s1)"
      ],
      "execution_count": null,
      "outputs": [
        {
          "output_type": "stream",
          "name": "stdout",
          "text": [
            "{1, 2, 3, 4, 5, 6}\n"
          ]
        }
      ]
    },
    {
      "cell_type": "code",
      "metadata": {
        "colab": {
          "base_uri": "https://localhost:8080/"
        },
        "id": "B37QF7dP9Ipk",
        "outputId": "73a983d2-391a-4576-9b26-9ccf600a3fff"
      },
      "source": [
        "# remove : 특정 값 제거\n",
        "s1 = set([1,2,3])\n",
        "s1.remove(2)\n",
        "print(s1)"
      ],
      "execution_count": null,
      "outputs": [
        {
          "output_type": "stream",
          "name": "stdout",
          "text": [
            "{1, 3}\n"
          ]
        }
      ]
    },
    {
      "cell_type": "code",
      "metadata": {
        "colab": {
          "base_uri": "https://localhost:8080/"
        },
        "id": "2oKNPf0h9q0f",
        "outputId": "6936ab79-f983-432d-b024-725a3d584256"
      },
      "source": [
        "# bool 자료형 boolean - 참 True 거짓 False ( 첫 문자는 반드시 대문자)\n",
        "\n",
        "a = True\n",
        "b = False\n",
        "\n",
        "print(type(a))\n",
        "print(type(b))"
      ],
      "execution_count": null,
      "outputs": [
        {
          "output_type": "stream",
          "name": "stdout",
          "text": [
            "<class 'bool'>\n",
            "<class 'bool'>\n"
          ]
        }
      ]
    },
    {
      "cell_type": "code",
      "metadata": {
        "colab": {
          "base_uri": "https://localhost:8080/"
        },
        "id": "DQ1tVkTW-TIz",
        "outputId": "527d347f-1fad-4fc0-a05b-1e2961bd7517"
      },
      "source": [
        "print(a == b)\n",
        "print(a != b)"
      ],
      "execution_count": null,
      "outputs": [
        {
          "output_type": "stream",
          "name": "stdout",
          "text": [
            "False\n",
            "True\n"
          ]
        }
      ]
    },
    {
      "cell_type": "code",
      "metadata": {
        "colab": {
          "base_uri": "https://localhost:8080/"
        },
        "id": "wbQLuEOb-cGm",
        "outputId": "607a29b2-8bab-4eb8-9a62-fca533b6b339"
      },
      "source": [
        "2>1"
      ],
      "execution_count": null,
      "outputs": [
        {
          "output_type": "execute_result",
          "data": {
            "text/plain": [
              "True"
            ]
          },
          "metadata": {},
          "execution_count": 116
        }
      ]
    },
    {
      "cell_type": "code",
      "metadata": {
        "id": "bQXhxb7N-k0l"
      },
      "source": [
        "# \"\" , [] , {} , () , None, 0 -> 비어있는 건 항상 거짓\n"
      ],
      "execution_count": null,
      "outputs": []
    },
    {
      "cell_type": "code",
      "metadata": {
        "colab": {
          "base_uri": "https://localhost:8080/"
        },
        "id": "lB8nu-ga_GaY",
        "outputId": "ae554484-9c8d-401a-b419-0d35896e7021"
      },
      "source": [
        "a = [1,2,3,4]\n",
        "while a:\n",
        "  print(a.pop())"
      ],
      "execution_count": null,
      "outputs": [
        {
          "output_type": "stream",
          "name": "stdout",
          "text": [
            "4\n",
            "3\n",
            "2\n",
            "1\n"
          ]
        }
      ]
    },
    {
      "cell_type": "code",
      "metadata": {
        "colab": {
          "base_uri": "https://localhost:8080/"
        },
        "id": "Kz6_EQ6Z_wBS",
        "outputId": "5a8bd0df-e60c-4e8a-a27c-59241c124236"
      },
      "source": [
        "if [] :\n",
        "  print(\"참\")\n",
        "else :\n",
        "  print(\"거짓\")\n",
        "\n",
        "  "
      ],
      "execution_count": null,
      "outputs": [
        {
          "output_type": "stream",
          "name": "stdout",
          "text": [
            "거짓\n"
          ]
        }
      ]
    },
    {
      "cell_type": "code",
      "metadata": {
        "id": "92FCv8r7AIGr"
      },
      "source": [
        "# 자료형 총정리\n",
        "# 가장 기본이 되는 자료형 숫자, 문자열, 리스트, 튜플, 딕셔너리, 집합, 불룬 \n"
      ],
      "execution_count": null,
      "outputs": []
    },
    {
      "cell_type": "code",
      "metadata": {
        "colab": {
          "base_uri": "https://localhost:8080/"
        },
        "id": "j03adsR7Bdyk",
        "outputId": "1b748898-0e64-45de-9ae7-263db3b3d2d4"
      },
      "source": [
        "# 변수 : 어떤 값이 들어가 있는 메모리의 위치를 가리킨다.\n",
        "#       다른 언어에서는 자료형을 직접 지정해줘야 하지만 파이썬은 스스로 판단해서 저장한다.\n",
        "#       id() : 변수가 가리키는 주소값을 반환한다.\n",
        "\n",
        "a = 1 \n",
        "b = 'python'\n",
        "\n",
        "print(id(a))  # id 주소값으로 보면 된다.\n",
        "print(id(b))"
      ],
      "execution_count": null,
      "outputs": [
        {
          "output_type": "stream",
          "name": "stdout",
          "text": [
            "94869853395456\n",
            "139934845323312\n"
          ]
        }
      ]
    },
    {
      "cell_type": "code",
      "metadata": {
        "id": "yvEFCmLIDAcj"
      },
      "source": [
        "a = [1,2,3]\n",
        "b = a\n"
      ],
      "execution_count": null,
      "outputs": []
    },
    {
      "cell_type": "code",
      "metadata": {
        "colab": {
          "base_uri": "https://localhost:8080/"
        },
        "id": "rU0Q2MY_DUFY",
        "outputId": "14e7eca7-a1da-4058-94fb-d31e71ba3f40"
      },
      "source": [
        "print(a)"
      ],
      "execution_count": null,
      "outputs": [
        {
          "output_type": "stream",
          "name": "stdout",
          "text": [
            "[1, 2, 3]\n"
          ]
        }
      ]
    },
    {
      "cell_type": "code",
      "metadata": {
        "colab": {
          "base_uri": "https://localhost:8080/"
        },
        "id": "L1_LNy76DV-4",
        "outputId": "0682bd2d-d876-49b2-c665-23f13af02266"
      },
      "source": [
        "print(b)"
      ],
      "execution_count": null,
      "outputs": [
        {
          "output_type": "stream",
          "name": "stdout",
          "text": [
            "[1, 2, 3]\n"
          ]
        }
      ]
    },
    {
      "cell_type": "code",
      "metadata": {
        "colab": {
          "base_uri": "https://localhost:8080/"
        },
        "id": "mag8w_ZYDXKz",
        "outputId": "663c394f-be79-431f-c5df-96a26c3c7559"
      },
      "source": [
        "id(a)"
      ],
      "execution_count": null,
      "outputs": [
        {
          "output_type": "execute_result",
          "data": {
            "text/plain": [
              "140522359214880"
            ]
          },
          "metadata": {},
          "execution_count": 123
        }
      ]
    },
    {
      "cell_type": "code",
      "metadata": {
        "colab": {
          "base_uri": "https://localhost:8080/"
        },
        "id": "byG19b-yDYVG",
        "outputId": "d61ab0d4-9f51-49f0-ac0c-d72646d482e9"
      },
      "source": [
        "id(b)"
      ],
      "execution_count": null,
      "outputs": [
        {
          "output_type": "execute_result",
          "data": {
            "text/plain": [
              "140522359214880"
            ]
          },
          "metadata": {},
          "execution_count": 124
        }
      ]
    },
    {
      "cell_type": "code",
      "metadata": {
        "colab": {
          "base_uri": "https://localhost:8080/"
        },
        "id": "F8ldz6oqDjJK",
        "outputId": "33f0752d-fbae-425e-a812-57b1dd18f23e"
      },
      "source": [
        "print(a is b)      # a와 b가 가리키는 객체가 같은 거니?"
      ],
      "execution_count": null,
      "outputs": [
        {
          "output_type": "stream",
          "name": "stdout",
          "text": [
            "True\n"
          ]
        }
      ]
    },
    {
      "cell_type": "code",
      "metadata": {
        "colab": {
          "base_uri": "https://localhost:8080/"
        },
        "id": "9yiX-hkLGUyt",
        "outputId": "a816a3de-4ea4-401b-93d8-60d9551679e0"
      },
      "source": [
        "a[1] = 4\n",
        "print(a)"
      ],
      "execution_count": null,
      "outputs": [
        {
          "output_type": "stream",
          "name": "stdout",
          "text": [
            "[1, 4, 3]\n"
          ]
        }
      ]
    },
    {
      "cell_type": "code",
      "metadata": {
        "colab": {
          "base_uri": "https://localhost:8080/"
        },
        "id": "3pMwEQDeGibN",
        "outputId": "b7675db0-7d1c-4363-93da-2cfb3e1676c4"
      },
      "source": [
        "print(b)"
      ],
      "execution_count": null,
      "outputs": [
        {
          "output_type": "stream",
          "name": "stdout",
          "text": [
            "[1, 4, 3]\n"
          ]
        }
      ]
    },
    {
      "cell_type": "code",
      "metadata": {
        "colab": {
          "base_uri": "https://localhost:8080/"
        },
        "id": "WWr4zSP4Gyxt",
        "outputId": "31b3daec-ec3c-43f9-82d1-eb55dfdd881d"
      },
      "source": [
        "a = [1,2,3]\n",
        "b = a[:] \n",
        "a[1] = 4\n",
        "print(a)"
      ],
      "execution_count": null,
      "outputs": [
        {
          "output_type": "stream",
          "name": "stdout",
          "text": [
            "[1, 4, 3]\n"
          ]
        }
      ]
    },
    {
      "cell_type": "code",
      "metadata": {
        "colab": {
          "base_uri": "https://localhost:8080/"
        },
        "id": "rPBIyXr2HA2J",
        "outputId": "abab0c75-eeae-4f7f-b2c2-85c66255f79d"
      },
      "source": [
        "print(b)"
      ],
      "execution_count": null,
      "outputs": [
        {
          "output_type": "stream",
          "name": "stdout",
          "text": [
            "[1, 2, 3]\n"
          ]
        }
      ]
    },
    {
      "cell_type": "code",
      "metadata": {
        "colab": {
          "base_uri": "https://localhost:8080/"
        },
        "id": "1eZTRysOHD4n",
        "outputId": "936c5fb4-e635-4057-e6b9-ff460c231cf9"
      },
      "source": [
        "id(a)"
      ],
      "execution_count": null,
      "outputs": [
        {
          "output_type": "execute_result",
          "data": {
            "text/plain": [
              "140522360077440"
            ]
          },
          "metadata": {},
          "execution_count": 133
        }
      ]
    },
    {
      "cell_type": "code",
      "metadata": {
        "colab": {
          "base_uri": "https://localhost:8080/"
        },
        "id": "KBwGF0ZNHEsa",
        "outputId": "48f0f3a0-f0a4-45be-a95b-e40cea82224a"
      },
      "source": [
        "id(b)\n"
      ],
      "execution_count": null,
      "outputs": [
        {
          "output_type": "execute_result",
          "data": {
            "text/plain": [
              "140522358762704"
            ]
          },
          "metadata": {},
          "execution_count": 134
        }
      ]
    },
    {
      "cell_type": "code",
      "metadata": {
        "colab": {
          "base_uri": "https://localhost:8080/"
        },
        "id": "tJp2cjFjHS71",
        "outputId": "5ad9cb55-80f3-462c-e8d5-df8632814290"
      },
      "source": [
        "from copy import copy\n",
        "a = [1,2,3]\n",
        "b = copy(a)\n",
        "b is a"
      ],
      "execution_count": null,
      "outputs": [
        {
          "output_type": "execute_result",
          "data": {
            "text/plain": [
              "False"
            ]
          },
          "metadata": {},
          "execution_count": 135
        }
      ]
    },
    {
      "cell_type": "code",
      "metadata": {
        "colab": {
          "base_uri": "https://localhost:8080/"
        },
        "id": "ij0MrwmQHraP",
        "outputId": "860c8753-1426-4940-8f4f-97da86ce034b"
      },
      "source": [
        "id(a)"
      ],
      "execution_count": null,
      "outputs": [
        {
          "output_type": "execute_result",
          "data": {
            "text/plain": [
              "140522359084448"
            ]
          },
          "metadata": {},
          "execution_count": 136
        }
      ]
    },
    {
      "cell_type": "code",
      "metadata": {
        "colab": {
          "base_uri": "https://localhost:8080/"
        },
        "id": "uvr9fK9AHsv-",
        "outputId": "9df35ac0-0d82-4275-804e-9a963bc472f1"
      },
      "source": [
        "id(b)"
      ],
      "execution_count": null,
      "outputs": [
        {
          "output_type": "execute_result",
          "data": {
            "text/plain": [
              "140522359435904"
            ]
          },
          "metadata": {},
          "execution_count": 137
        }
      ]
    },
    {
      "cell_type": "code",
      "metadata": {
        "id": "abxMSUJwIEbP"
      },
      "source": [
        "a,b = ('python','great')"
      ],
      "execution_count": null,
      "outputs": []
    },
    {
      "cell_type": "code",
      "metadata": {
        "id": "nySqqOt5IHpV"
      },
      "source": [
        "(a,b) = 'python','great'"
      ],
      "execution_count": null,
      "outputs": []
    },
    {
      "cell_type": "code",
      "metadata": {
        "id": "qF66SnG8Iefc"
      },
      "source": [
        "a = b = 'python'"
      ],
      "execution_count": null,
      "outputs": []
    },
    {
      "cell_type": "code",
      "metadata": {
        "colab": {
          "base_uri": "https://localhost:8080/"
        },
        "id": "AbzTc7pEIi9F",
        "outputId": "1b9e810a-fcd2-48d1-d02e-6e76924f28fc"
      },
      "source": [
        "a = 5\n",
        "b = 10\n",
        "\n",
        "# 자바 / C 스타일\n",
        "t = a\n",
        "a = b\n",
        "b = t\n",
        "\n",
        "print(a)"
      ],
      "execution_count": null,
      "outputs": [
        {
          "output_type": "stream",
          "name": "stdout",
          "text": [
            "10\n"
          ]
        }
      ]
    },
    {
      "cell_type": "code",
      "metadata": {
        "colab": {
          "base_uri": "https://localhost:8080/"
        },
        "id": "iMeAA08DIo08",
        "outputId": "a57677f2-a1f6-48fc-91db-83926500b05f"
      },
      "source": [
        "print(b)"
      ],
      "execution_count": null,
      "outputs": [
        {
          "output_type": "stream",
          "name": "stdout",
          "text": [
            "5\n"
          ]
        }
      ]
    },
    {
      "cell_type": "code",
      "metadata": {
        "id": "pr53S8RLI1Jv"
      },
      "source": [
        "a,b = b,a"
      ],
      "execution_count": null,
      "outputs": []
    },
    {
      "cell_type": "code",
      "metadata": {
        "id": "ZMtn5znAJeK3"
      },
      "source": [
        "# 문제풀기\n",
        "\n",
        "1. 정수 13이 홀수 인지 짝수인지 어떻게 판별 할 수 있을까\n"
      ],
      "execution_count": null,
      "outputs": []
    },
    {
      "cell_type": "code",
      "metadata": {
        "colab": {
          "base_uri": "https://localhost:8080/"
        },
        "id": "_Iay96wWJovG",
        "outputId": "4479d079-c24b-4f56-addd-63c32f05c03b"
      },
      "source": [
        "a = 13\n",
        "if(a%2 == 0) :\n",
        "  print('짝수')\n",
        "else:\n",
        "  print('홀수')  "
      ],
      "execution_count": null,
      "outputs": [
        {
          "output_type": "stream",
          "name": "stdout",
          "text": [
            "홀수\n"
          ]
        }
      ]
    },
    {
      "cell_type": "code",
      "metadata": {
        "id": "5rV_3Ck1KYHF"
      },
      "source": [
        "# 어떤수가 어떤수의 배수인지 어떻게 판별할 수 있을까\n",
        "\n",
        "# 어떤수가 9 라면...  나머지가 0 인값을 찾아랏"
      ],
      "execution_count": null,
      "outputs": []
    },
    {
      "cell_type": "code",
      "metadata": {
        "id": "VTa-BZvWKdrl"
      },
      "source": [
        "#홍길동 학생의 주민번호가 881120-1073834이다. 생년월일 / 뒷자리 7개만 추출해보자"
      ],
      "execution_count": null,
      "outputs": []
    },
    {
      "cell_type": "code",
      "metadata": {
        "colab": {
          "base_uri": "https://localhost:8080/"
        },
        "id": "LbVhetqeLBmL",
        "outputId": "daab9cc7-db9b-46a6-f866-65e940a60e76"
      },
      "source": [
        "num='881120-1073834'\n",
        "birth = num[0:6]\n",
        "last = num[-7:]\n",
        "\n",
        "print(birth)\n",
        "print(last)"
      ],
      "execution_count": null,
      "outputs": [
        {
          "output_type": "stream",
          "name": "stdout",
          "text": [
            "881120\n",
            "1073834\n"
          ]
        }
      ]
    },
    {
      "cell_type": "code",
      "metadata": {
        "colab": {
          "base_uri": "https://localhost:8080/"
        },
        "id": "TGya5_NgMQG4",
        "outputId": "26cfdb2f-65cd-47a9-f75e-a122a48ff98e"
      },
      "source": [
        "a = ['Life','is','too','short'] # 한 문장으로 만들어 보자\n",
        "result = \" \".join(a)\n",
        "print(result)\n",
        "\n"
      ],
      "execution_count": null,
      "outputs": [
        {
          "output_type": "stream",
          "name": "stdout",
          "text": [
            "Life is too short\n"
          ]
        }
      ]
    },
    {
      "cell_type": "code",
      "metadata": {
        "colab": {
          "base_uri": "https://localhost:8080/"
        },
        "id": "_3ZR7WQ4NTRk",
        "outputId": "727439d3-ab14-4f13-db8c-30385f469d4f"
      },
      "source": [
        "a = (1,2,3)\n",
        "print(id(a))\n",
        "\n",
        "a=a+(4,) # 튜플 자료형에 1개의 원소만 나타낼 때는 쉼표를 괜히 붙인다.\n",
        "print(id(a))"
      ],
      "execution_count": null,
      "outputs": [
        {
          "output_type": "stream",
          "name": "stdout",
          "text": [
            "140522359086288\n",
            "140522358798288\n"
          ]
        }
      ]
    },
    {
      "cell_type": "code",
      "metadata": {
        "colab": {
          "base_uri": "https://localhost:8080/"
        },
        "id": "jyL6jjqANkWQ",
        "outputId": "03a6520c-e03b-41af-e2db-1da8e49d26a6"
      },
      "source": [
        "# if \n",
        "# 자료형은 나무 돌 시멘트 같은 재료였다면\n",
        "# 제어문은 건물의 뼈대\u001f\n",
        "\n",
        "# 참과 거짓을 판단한다.\n",
        "\n",
        "money = False\n",
        "if money:\n",
        "  print(\"택시를 타자\")\n",
        "else :\n",
        "  print(\"걸어가자\")\n",
        "\n"
      ],
      "execution_count": null,
      "outputs": [
        {
          "output_type": "stream",
          "name": "stdout",
          "text": [
            "걸어가자\n"
          ]
        }
      ]
    },
    {
      "cell_type": "code",
      "metadata": {
        "id": "oNPXHgXVUkhY"
      },
      "source": [
        "# 비교 연산자\n",
        "'''\n",
        "x < y   미만\n",
        "x > y   초과\n",
        "x == y  같다\n",
        "x != y  다르다\n",
        "x >= y  이상\n",
        "x <= y  이하\n",
        "\n",
        "x or y     둘 중 하나만 참이어도 참\n",
        "x and y    둘 다 모두 참이어야만 참\n",
        "'''"
      ],
      "execution_count": null,
      "outputs": []
    },
    {
      "cell_type": "code",
      "metadata": {
        "colab": {
          "base_uri": "https://localhost:8080/"
        },
        "id": "A9ZA1zd2Vdqo",
        "outputId": "1b177008-0262-44c6-ecd6-1fd09131ac75"
      },
      "source": [
        "money = 2000\n",
        "card = False\n",
        "\n",
        "if money >= 3000 or card:\n",
        "  print(\"택시\")\n",
        "else :\n",
        "  print(\"걷기\")"
      ],
      "execution_count": null,
      "outputs": [
        {
          "output_type": "stream",
          "name": "stdout",
          "text": [
            "걷기\n"
          ]
        }
      ]
    },
    {
      "cell_type": "code",
      "metadata": {
        "colab": {
          "base_uri": "https://localhost:8080/"
        },
        "id": "t0-nExuQWXut",
        "outputId": "581e5a2a-aa89-4b00-af1c-11b6d472cfca"
      },
      "source": [
        "pocket = ['paper','cellphone','money']\n",
        "if 'money' not in pocket:\n",
        "  print('택시')\n",
        "else :\n",
        "  print(\"걷기\")"
      ],
      "execution_count": null,
      "outputs": [
        {
          "output_type": "stream",
          "name": "stdout",
          "text": [
            "걷기\n"
          ]
        }
      ]
    },
    {
      "cell_type": "code",
      "metadata": {
        "colab": {
          "base_uri": "https://localhost:8080/"
        },
        "id": "pKQiENk3W4QB",
        "outputId": "ef8ede4b-9944-488c-ab77-d41d29920169"
      },
      "source": [
        "pocket = ['paper','cellphone']\n",
        "card = False\n",
        "\n",
        "if 'money' in pocket : \n",
        "  print(\"택시\")\n",
        "elif card:\n",
        "  print(\"택시\")\n",
        "else :\n",
        "  print('걷기')\n",
        "\n",
        "# 즉, elif는 이전 조건문이 거짓일 때 수행된다.\n"
      ],
      "execution_count": null,
      "outputs": [
        {
          "output_type": "stream",
          "name": "stdout",
          "text": [
            "걷기\n"
          ]
        }
      ]
    },
    {
      "cell_type": "code",
      "metadata": {
        "id": "eO8tG7YKX071"
      },
      "source": [
        "# 문제\n",
        "'''\n",
        "점수가 90점 이상이면 A, 80점 이상이면 B,  70점 이상이면 C, 60점 이상이면 D,  나머지는 전부  F\n",
        "score = 75\n",
        "'''\n"
      ],
      "execution_count": null,
      "outputs": []
    },
    {
      "cell_type": "code",
      "metadata": {
        "colab": {
          "base_uri": "https://localhost:8080/"
        },
        "id": "_vXSZI1XYJs4",
        "outputId": "1acbd2ea-f7fc-4a87-973a-1d57ba89d852"
      },
      "source": [
        "score = 75\n",
        "\n",
        "if score>=90:\n",
        "  print(\"A\")\n",
        "elif score >=80:\n",
        "  print(\"B\")\n",
        "elif score >=70:\n",
        "  print(\"c\")\n",
        "elif score >=60:\n",
        "  print(\"D\")\n",
        "else :\n",
        "  print(\"F\")"
      ],
      "execution_count": null,
      "outputs": [
        {
          "output_type": "stream",
          "name": "stdout",
          "text": [
            "c\n"
          ]
        }
      ]
    },
    {
      "cell_type": "code",
      "metadata": {
        "colab": {
          "base_uri": "https://localhost:8080/"
        },
        "id": "yCRd9E1iaBjo",
        "outputId": "8ce7471c-138a-4736-9137-97020c21f13e"
      },
      "source": [
        "# 반복문 while / for\n",
        "# 1. while 반복횟수가 명확하지 않을 경우 주로 사용 ex. 10시까지 운동장 돌아라\n",
        "# 2. for   반복횟수가 명확할 경우 사용      ex. 운동장을 20바퀴 돌아라  -> 더 많이 사용\n",
        "\n",
        "\n",
        "# while\n",
        "n = 1\n",
        "while n < 10 :\n",
        "  print(n ,end='')\n",
        "  n = n + 1"
      ],
      "execution_count": null,
      "outputs": [
        {
          "output_type": "stream",
          "name": "stdout",
          "text": [
            "123456789"
          ]
        }
      ]
    },
    {
      "cell_type": "code",
      "metadata": {
        "colab": {
          "base_uri": "https://localhost:8080/"
        },
        "id": "rxqOLgq6bfoQ",
        "outputId": "283127ea-ef5c-4ca6-c672-2416666ca0e1"
      },
      "source": [
        "n = 0\n",
        "while n < 10:\n",
        "  n += 1                          # n = n + 1 와 같은 의미\n",
        "  print(\"나무를 %d번 찍었습니다.\"%n)   # print(\"나무를\", n ,\"번 찍었습니다.\") 와 같은 의미\n",
        "  if n == 10:\n",
        "    print(\"나무 넘어갑니다...\")"
      ],
      "execution_count": null,
      "outputs": [
        {
          "output_type": "stream",
          "name": "stdout",
          "text": [
            "나무를 1번 찍었습니다.\n",
            "나무를 2번 찍었습니다.\n",
            "나무를 3번 찍었습니다.\n",
            "나무를 4번 찍었습니다.\n",
            "나무를 5번 찍었습니다.\n",
            "나무를 6번 찍었습니다.\n",
            "나무를 7번 찍었습니다.\n",
            "나무를 8번 찍었습니다.\n",
            "나무를 9번 찍었습니다.\n",
            "나무를 10번 찍었습니다.\n",
            "나무 넘어갑니다...\n"
          ]
        }
      ]
    },
    {
      "cell_type": "code",
      "metadata": {
        "colab": {
          "base_uri": "https://localhost:8080/"
        },
        "id": "uMYCjV-1dHTg",
        "outputId": "ce6ea4eb-5259-4fd8-abd9-de311d71dd9b"
      },
      "source": [
        "p = '''\n",
        "1. Add\n",
        "2. Del\n",
        "3. List\n",
        "4. Quit\n",
        "\n",
        "Enter number : '''\n",
        "\n",
        "n = 0\n",
        "while n != 4 :\n",
        "  print(p)\n",
        "  n = int(input())      # input으로 입력받은 값은 기본적으로 문자다."
      ],
      "execution_count": null,
      "outputs": [
        {
          "name": "stdout",
          "output_type": "stream",
          "text": [
            "\n",
            "1. Add\n",
            "2. Del\n",
            "3. List\n",
            "4. Quit\n",
            "\n",
            "Enter number : \n",
            "3\n",
            "\n",
            "1. Add\n",
            "2. Del\n",
            "3. List\n",
            "4. Quit\n",
            "\n",
            "Enter number : \n",
            "2\n",
            "\n",
            "1. Add\n",
            "2. Del\n",
            "3. List\n",
            "4. Quit\n",
            "\n",
            "Enter number : \n",
            "1\n",
            "\n",
            "1. Add\n",
            "2. Del\n",
            "3. List\n",
            "4. Quit\n",
            "\n",
            "Enter number : \n",
            "4\n"
          ]
        }
      ]
    },
    {
      "cell_type": "code",
      "metadata": {
        "colab": {
          "base_uri": "https://localhost:8080/"
        },
        "id": "bA94kBdOeazI",
        "outputId": "d20652ce-0d30-4e81-ecd7-f10700b3d85a"
      },
      "source": [
        "#  while문을 사용하여 1부터 1000까지의 수 중 3의 배수의 합을 구해보자\n",
        "\n",
        "n = 0\n",
        "sum = 0\n",
        "while(n<=1000):\n",
        "  n += 1\n",
        "  if(n%3==0):\n",
        "    sum += n\n",
        "print(sum)\n",
        "  "
      ],
      "execution_count": null,
      "outputs": [
        {
          "output_type": "stream",
          "name": "stdout",
          "text": [
            "166833\n"
          ]
        }
      ]
    }
  ]
}