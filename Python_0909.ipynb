{
  "nbformat": 4,
  "nbformat_minor": 0,
  "metadata": {
    "colab": {
      "name": "Python_0909.ipynb",
      "provenance": [],
      "collapsed_sections": []
    },
    "kernelspec": {
      "name": "python3",
      "display_name": "Python 3"
    },
    "language_info": {
      "name": "python"
    }
  },
  "cells": [
    {
      "cell_type": "markdown",
      "metadata": {
        "id": "eSICDyqO5pM3"
      },
      "source": [
        "## 1. 예외처리\n"
      ]
    },
    {
      "cell_type": "code",
      "metadata": {
        "id": "Wi4EElDvEqXN"
      },
      "source": [
        "# 예외처리 = 오류처리 = 에러처리 -> 모든 프로그램에는 오류가 있다 !!!!! \n",
        "# 예외는 오류를 처리하기 위한 수단\n",
        "\n",
        "list = []\n",
        "# print(list[0])   # 당연히 에러 IndexError: list index out of range\n"
      ],
      "execution_count": null,
      "outputs": []
    },
    {
      "cell_type": "code",
      "metadata": {
        "colab": {
          "base_uri": "https://localhost:8080/"
        },
        "id": "hGtxAUheG77Q",
        "outputId": "772e9fb2-d50b-485a-ae04-04fb2ca58dbe"
      },
      "source": [
        "text = 'abc'\n",
        "\n",
        "try:\n",
        "  number = int(text)  # 에러 ValueError: invalid literal for int() with base 10: 'abc'\n",
        "except : \n",
        "  print(\"{}는 숫자가 아닙니다.\".format(text))\n",
        "finally :   # 생략가능\n",
        "  print(\"프로그램을 종료합니다.\")\n",
        "\n",
        "\n",
        "print()\n",
        "# 에러가 없는 경우 바로 finally로 직행\n",
        "text1 = '111'\n",
        "\n",
        "try:\n",
        "  number = int(text1)  \n",
        "except : \n",
        "  print(\"{}는 숫자가 아닙니다.\".format(text1))\n",
        "finally :   # 생략가능\n",
        "  print(\"프로그램을 종료합니다.\")"
      ],
      "execution_count": null,
      "outputs": [
        {
          "output_type": "stream",
          "name": "stdout",
          "text": [
            "abc는 숫자가 아닙니다.\n",
            "프로그램을 종료합니다.\n",
            "\n",
            "프로그램을 종료합니다.\n"
          ]
        }
      ]
    },
    {
      "cell_type": "code",
      "metadata": {
        "colab": {
          "base_uri": "https://localhost:8080/"
        },
        "id": "5XhICBpYHna9",
        "outputId": "cea17738-12ba-480f-94ce-c47a7d818691"
      },
      "source": [
        "def intExam(number):\n",
        "  try :\n",
        "    number = int(text)\n",
        "    print(number)\n",
        "  except : \n",
        "    print(\"{}는 숫자가 아닙니다.\".format(text1))\n",
        "  finally :   # 생략가능\n",
        "    print(\"프로그램을 종료합니다.\")\n",
        "\n",
        "intExam(12312)"
      ],
      "execution_count": null,
      "outputs": [
        {
          "output_type": "stream",
          "name": "stdout",
          "text": [
            "111는 숫자가 아닙니다.\n",
            "프로그램을 종료합니다.\n"
          ]
        }
      ]
    },
    {
      "cell_type": "code",
      "metadata": {
        "colab": {
          "base_uri": "https://localhost:8080/"
        },
        "id": "dPpcEUQ8Ifua",
        "outputId": "5cbaabf9-8401-4b89-c43c-ba0e7a652c8f"
      },
      "source": [
        "# 예외의 이름을 알아내는 방법 -> 직접 에러를 발생시켜서 이름을 확인한다;; -> 오류의 정리대로 처리한다.\n",
        "\n",
        "#int('abc')   # ValueError\n",
        "#4/0          # ZeroDivisionError\n",
        "\n",
        "#list = []\n",
        "#list[0]     # IndexError\n",
        "\n",
        "# 이름을 알아 낸 후 사용하기\n",
        "try :\n",
        "  5 / 5\n",
        "  int('abc')\n",
        "except ZeroDivisionError :\n",
        "  print('모든 수는 0으로 나눌 수 없습니다.')\n",
        "except ValueError :\n",
        "  print('밸류 에러가 발생하였습니다.')"
      ],
      "execution_count": null,
      "outputs": [
        {
          "output_type": "stream",
          "name": "stdout",
          "text": [
            "밸류 에러가 발생하였습니다.\n"
          ]
        }
      ]
    },
    {
      "cell_type": "code",
      "metadata": {
        "colab": {
          "base_uri": "https://localhost:8080/"
        },
        "id": "uSAGVwTnKP6G",
        "outputId": "584b0140-e75f-4cc9-e13d-da5ea70d1d41"
      },
      "source": [
        "# rsise 에러를 직접 발생시킨다. -> 강제로 에러를 발생시키는 이유\n",
        "# : 프로그램이 길어서 어딘가에서 멈추고 싶을때(체크할때), 위치 찾을때 또는 프로그램을 원활하게 진행하기 위해서\n",
        "\n",
        "def rsp(mine, yours) :\n",
        "  allowed = ['가위','바위','보']\n",
        "  if mine not in allowed : \n",
        "    raise ValueError\n",
        "  if yours not in allowed :\n",
        "    raise ValueError\n",
        "  print('게임을 진행합니다.')\n",
        "\n",
        "try :\n",
        "  rsp('가위','바위')\n",
        "except ValueError :\n",
        "  print(\"잘못된 값을 입력하였습니다.\")"
      ],
      "execution_count": null,
      "outputs": [
        {
          "output_type": "stream",
          "name": "stdout",
          "text": [
            "게임을 진행합니다.\n"
          ]
        }
      ]
    },
    {
      "cell_type": "code",
      "metadata": {
        "colab": {
          "base_uri": "https://localhost:8080/",
          "height": 266
        },
        "id": "DmL3SqOYMAkH",
        "outputId": "dee3021d-8e53-474b-9d06-c36dce7d5a6b"
      },
      "source": [
        "# Quiz ) 어떤 학교에 1반과 2반이 있다. classrooms 라는 리스트를 만들어 리스트 안에 학생들의 키가 있다. \n",
        "# 키가 190이 넘는 학생이 있다면 그 반의 이름을 출력하고 프로그램을 즉시 종료\n",
        "\n",
        "classrooms = {'1반':[162,175,198,137,145,199], '2반':[165,177,157,160,192]}\n",
        "\n",
        "\n",
        "for id,heights in classrooms.items():   # 반을 추출 dict_items([('1반', [162, 175, 198, 137, 145, 199]), ('2반', [165, 177, 157, 160, 187])])\n",
        "  for height in heights :               # 키 추출 [162, 175, 198, 137, 145, 199] [165, 177, 157, 160, 187]\n",
        "    if height >190 :\n",
        "      print('{}에 키가 190이 넘는 학생이 있습니다.'.format(id))    \n",
        "      break       # 1반에서 찾고 종료되지 않고 2반에서도 찾아짐...\n",
        "\n",
        "print()\n",
        "for id,heights in classrooms.items():   \n",
        "  for height in heights :               \n",
        "    if height >190 :\n",
        "      print('{}에 키가 190이 넘는 학생이 있습니다.'.format(id))     \n",
        "      raise StopIteration     # 찾으면 바로 종료하기 위해 에러 발생시기고\n"
      ],
      "execution_count": null,
      "outputs": [
        {
          "output_type": "stream",
          "name": "stdout",
          "text": [
            "1반에 키가 190이 넘는 학생이 있습니다.\n",
            "2반에 키가 190이 넘는 학생이 있습니다.\n",
            "\n",
            "1반에 키가 190이 넘는 학생이 있습니다.\n"
          ]
        },
        {
          "output_type": "error",
          "ename": "StopIteration",
          "evalue": "ignored",
          "traceback": [
            "\u001b[0;31m---------------------------------------------------------------------------\u001b[0m",
            "\u001b[0;31mStopIteration\u001b[0m                             Traceback (most recent call last)",
            "\u001b[0;32m<ipython-input-55-5831b0f8773a>\u001b[0m in \u001b[0;36m<module>\u001b[0;34m()\u001b[0m\n\u001b[1;32m     16\u001b[0m     \u001b[0;32mif\u001b[0m \u001b[0mheight\u001b[0m \u001b[0;34m>\u001b[0m\u001b[0;36m190\u001b[0m \u001b[0;34m:\u001b[0m\u001b[0;34m\u001b[0m\u001b[0;34m\u001b[0m\u001b[0m\n\u001b[1;32m     17\u001b[0m       \u001b[0mprint\u001b[0m\u001b[0;34m(\u001b[0m\u001b[0;34m'{}에 키가 190이 넘는 학생이 있습니다.'\u001b[0m\u001b[0;34m.\u001b[0m\u001b[0mformat\u001b[0m\u001b[0;34m(\u001b[0m\u001b[0mid\u001b[0m\u001b[0;34m)\u001b[0m\u001b[0;34m)\u001b[0m\u001b[0;34m\u001b[0m\u001b[0;34m\u001b[0m\u001b[0m\n\u001b[0;32m---> 18\u001b[0;31m       \u001b[0;32mraise\u001b[0m \u001b[0mStopIteration\u001b[0m\u001b[0;34m\u001b[0m\u001b[0;34m\u001b[0m\u001b[0m\n\u001b[0m",
            "\u001b[0;31mStopIteration\u001b[0m: "
          ]
        }
      ]
    },
    {
      "cell_type": "code",
      "metadata": {
        "colab": {
          "base_uri": "https://localhost:8080/"
        },
        "id": "Cs5u3KsKTL6S",
        "outputId": "caa2803b-b624-44d8-8819-9048cf08c63c"
      },
      "source": [
        "try:\n",
        "  for id,heights in classrooms.items():   \n",
        "    for height in heights :               \n",
        "      if height >190 :\n",
        "        print('{}에 키가 190이 넘는 학생이 있습니다.'.format(id))     \n",
        "        raise StopIteration     # 찾으면 바로 종료하기 위해 에러 발생시기고\n",
        "except StopIteration : \n",
        "  print('190이 넘는 학생을 찾았습니다')"
      ],
      "execution_count": null,
      "outputs": [
        {
          "output_type": "stream",
          "name": "stdout",
          "text": [
            "1반에 키가 190이 넘는 학생이 있습니다.\n",
            "190이 넘는 학생을 찾았습니다\n"
          ]
        }
      ]
    },
    {
      "cell_type": "markdown",
      "metadata": {
        "id": "xe38w6jFTm6J"
      },
      "source": [
        "## 2. 클래스와 객체(인스턴스)지향 프로그래밍(OOP : Object Oriented Programming)"
      ]
    },
    {
      "cell_type": "code",
      "metadata": {
        "colab": {
          "base_uri": "https://localhost:8080/"
        },
        "id": "PmUKNz3sT3BR",
        "outputId": "016398ec-ec54-45b1-fd47-92157370a175"
      },
      "source": [
        "class Human() :\n",
        "  def speak(person) :\n",
        "    print(\"{}말을합니다.\".format(person.language))\n",
        "\n",
        "person1 = Human()\n",
        "person2 = Human()\n",
        "\n",
        "print(isinstance(person1, Human))    # person1이라는 객체가 Human으로 찍어낸 인스턴스니???\n",
        "print(isinstance(person2, Human))    # person2이라는 객체가 Human으로 찍어낸 인스턴스니???"
      ],
      "execution_count": null,
      "outputs": [
        {
          "output_type": "stream",
          "name": "stdout",
          "text": [
            "True\n",
            "True\n"
          ]
        }
      ]
    },
    {
      "cell_type": "code",
      "metadata": {
        "colab": {
          "base_uri": "https://localhost:8080/",
          "height": 130
        },
        "id": "WudDtYiPVJuH",
        "outputId": "9e92b869-7db4-42b4-f6ff-6c9735a4e115"
      },
      "source": [
        "# 클래스를 사용하는 이유는 현실 개념을 코드로 더 쉽게 표현하기 위해서이다.\n",
        "\n",
        "class Human():\n",
        "  \n",
        "  def create_human(name,weight):\n",
        "    person = Human()\n",
        "    person.name = name\n",
        "    person.weight = weight\n",
        "    return person\n",
        "\n",
        "Human.create = create_human\n",
        "person1 = Human.create(\"철수\",70.5)\n",
        "person2 = Human.create(\"영희\",53.3)"
      ],
      "execution_count": null,
      "outputs": [
        {
          "output_type": "error",
          "ename": "IndentationError",
          "evalue": "ignored",
          "traceback": [
            "\u001b[0;36m  File \u001b[0;32m\"<ipython-input-69-04e8c77be030>\"\u001b[0;36m, line \u001b[0;32m6\u001b[0m\n\u001b[0;31m    def create_human(name,weight):\u001b[0m\n\u001b[0m      ^\u001b[0m\n\u001b[0;31mIndentationError\u001b[0m\u001b[0;31m:\u001b[0m expected an indented block\n"
          ]
        }
      ]
    },
    {
      "cell_type": "markdown",
      "metadata": {
        "id": "UAmsqxjWYBN4"
      },
      "source": [
        "## 3. 클래스의 상속과 다형성"
      ]
    },
    {
      "cell_type": "code",
      "metadata": {
        "colab": {
          "base_uri": "https://localhost:8080/"
        },
        "id": "NiTKwn37YF6b",
        "outputId": "cff3413e-e8d8-41f0-d821-8fc5d47cd7dd"
      },
      "source": [
        "# Human과 Dog의 일반 클래스\n",
        "\n",
        "class Human() :\n",
        "  def walk(self):\n",
        "    print('걷는다')\n",
        "  def eat(self) :\n",
        "    print('먹는다')\n",
        "  def wave(self) :\n",
        "    print('손을 흔든다')\n",
        "\n",
        "person1 = Human()\n",
        "person2 = Human()\n",
        "\n",
        "person1.walk()\n",
        "person2.eat()\n",
        "\n",
        "print()\n",
        "\n",
        "class Dog():\n",
        "  def walk(self):\n",
        "    print('걷는다')\n",
        "  def eat(self) :\n",
        "    print('먹는다')\n",
        "  def wag(self) :\n",
        "    print('꼬리를 흔든다')\n",
        "\n",
        "dog = Dog()\n",
        "dog.wag()\n"
      ],
      "execution_count": null,
      "outputs": [
        {
          "output_type": "stream",
          "name": "stdout",
          "text": [
            "걷는다\n",
            "먹는다\n",
            "\n",
            "꼬리를 흔든다\n"
          ]
        }
      ]
    },
    {
      "cell_type": "code",
      "metadata": {
        "colab": {
          "base_uri": "https://localhost:8080/"
        },
        "id": "rIcKaYJsZOhk",
        "outputId": "51c1388f-1929-4898-d45d-f35862d915f8"
      },
      "source": [
        "# 상속!!!  <->  추상화(중복된 기능을 뽑아서 덩어리로 만든다)\n",
        "# Human과 Dog의 공통된 기능(걷는다,먹는다)을 꺼내서 또 하나의 Animal이라는 클래스로 생성한다.      \n",
        "class Animal() :\n",
        "  def walk(self):\n",
        "    print('걷는다')\n",
        "  def eat(self) :\n",
        "    print('먹는다')\n",
        "\n",
        "\n",
        "# Human과 Dog가 Animal을 상속 받는다.\n",
        "class Human(Animal) :\n",
        "  def wave(self) :\n",
        "    print('손을 흔든다')\n",
        "\n",
        "person = Human()\n",
        "\n",
        "person.walk()\n",
        "person.eat()\n",
        "person.wave()\n",
        "\n",
        "print()\n",
        "class Dog(Animal):\n",
        "  def wag(self) :\n",
        "    print('꼬리를 흔든다')\n",
        "\n",
        "dog = Dog()\n",
        "dog.walk()\n",
        "dog.eat()\n",
        "dog.wag()\n",
        "\n",
        "# 파이썬은 다중상속이 가능하다 !! 자바는 다중상속이 불가능... \n"
      ],
      "execution_count": null,
      "outputs": [
        {
          "output_type": "stream",
          "name": "stdout",
          "text": [
            "걷는다\n",
            "먹는다\n",
            "손을 흔든다\n",
            "\n",
            "걷는다\n",
            "먹는다\n",
            "꼬리를 흔든다\n"
          ]
        }
      ]
    },
    {
      "cell_type": "markdown",
      "metadata": {
        "id": "Mj2SemZyb-N2"
      },
      "source": [
        "## 4. 메소드 오버라이드  override"
      ]
    },
    {
      "cell_type": "code",
      "metadata": {
        "colab": {
          "base_uri": "https://localhost:8080/"
        },
        "id": "JVv0jAB9cB2e",
        "outputId": "c5666246-6422-4cd1-a49c-5c6e01a0f324"
      },
      "source": [
        "# Dog와 Human이 Animal을 상속 받는데, 상속 받은 메소드를 자식이 덮어 씌울 수 있다.\n",
        "\n",
        "class Dog(Animal):\n",
        "  def wag(self) :\n",
        "    print('꼬리를 흔든다')\n",
        "\n",
        "dog = Dog()\n",
        "dog.walk()\n",
        "dog.eat()\n",
        "dog.wag()\n",
        "\n",
        "print()\n",
        "class Dog(Animal):\n",
        "  def wag(self) :\n",
        "    print('꼬리를 흔든다')\n",
        "  def eat(self) :\n",
        "    print('많이 먹는다')\n",
        "\n",
        "dog = Dog()\n",
        "dog.walk()\n",
        "dog.eat()    # 부모(Animal)는 \"먹는다\" 이지만 자식(Dog)에서 오버라이드 하여 \"많이 먹는다\"로 출력된다. \n",
        "dog.wag()"
      ],
      "execution_count": null,
      "outputs": [
        {
          "output_type": "stream",
          "name": "stdout",
          "text": [
            "걷는다\n",
            "먹는다\n",
            "꼬리를 흔든다\n",
            "\n",
            "걷는다\n",
            "많이 먹는다\n",
            "꼬리를 흔든다\n"
          ]
        }
      ]
    },
    {
      "cell_type": "markdown",
      "metadata": {
        "id": "L5msoRo4c0U6"
      },
      "source": [
        "## 5. Super"
      ]
    },
    {
      "cell_type": "code",
      "metadata": {
        "colab": {
          "base_uri": "https://localhost:8080/"
        },
        "id": "HyPng2SEc3SD",
        "outputId": "e4456df9-2430-4efd-abcc-f6825a774645"
      },
      "source": [
        "# super()\n",
        "\n",
        "class Animal() :\n",
        "  def walk(self):\n",
        "    print('걷는다')\n",
        "  def eat(self) :\n",
        "    print('먹는다')\n",
        "  def greet(self) :\n",
        "    print('인사해요')\n",
        "\n",
        "\n",
        "class Human(Animal) :\n",
        "  def wave(self) :\n",
        "    print('손을 흔들고')\n",
        "  def greet(self) :\n",
        "    self.wave()     # self 자기자신 : person.wave\n",
        "    super().greet() # super() 부모 : Animal.greet\n",
        "\n",
        "person = Human()\n",
        "person.greet()"
      ],
      "execution_count": null,
      "outputs": [
        {
          "output_type": "stream",
          "name": "stdout",
          "text": [
            "손을 흔들고\n",
            "인사해요\n"
          ]
        }
      ]
    },
    {
      "cell_type": "code",
      "metadata": {
        "colab": {
          "base_uri": "https://localhost:8080/"
        },
        "id": "Hq-_u2nGxxTK",
        "outputId": "88e20368-0bd5-4a01-c8ed-b2db96366aa5"
      },
      "source": [
        "class Animal() :\n",
        "  def __init__(self,name) : # 부모의 생성자\n",
        "    self.name = name\n",
        "  def walk(self):\n",
        "    print('걷는다')\n",
        "  def eat(self) :\n",
        "    print('먹는다')\n",
        "  def greet(self) :\n",
        "    print('{}이/가 인사해요'.format(self.name))\n",
        "\n",
        "\n",
        "class Human(Animal) :\n",
        "  def __init__(self,name,hand):\n",
        "    super().__init__(name) # 부모의 생성자를 호출\n",
        "    self.hand = hand        # 자식은 손(hand)에 관련된 부분만 처리\n",
        "  def wave(self) :\n",
        "    print('{}을 흔들면서'.format(self.hand))  \n",
        "  def greet(self) :\n",
        "    self.wave()     # self 자기자신 : person.wave\n",
        "    super().greet() # super() 부모 : Animal.greet\n",
        "\n",
        "# person = Human(\"사람\")  # 사람이/가 인사해요\n",
        "person = Human(\"사람\",\"오른손\") # Human 클래스로 person 객체를 생성할 때 생성자에 인수(매개변수) 2개를 넘겨주었다.\n",
        "                            # 그러면 '사람'과 '오른손'이 각각 name과 hand를 생성자로 넘겨진다.\n",
        "                            # name은 부모 즉, annimal 클래스의 생성자 __init__가 처리해주고 hand는 human클래스의 생성자가 __init__ 처리한다.\n",
        "person.greet()"
      ],
      "execution_count": null,
      "outputs": [
        {
          "output_type": "stream",
          "name": "stdout",
          "text": [
            "오른손을 흔들면서\n",
            "사람이/가 인사해요\n"
          ]
        }
      ]
    },
    {
      "cell_type": "code",
      "metadata": {
        "id": "mZnbLuS60_Yu"
      },
      "source": [
        "# 생성자를 오버라이드 한다......\n",
        "\n",
        "class Car() :\n",
        "  def __init__(self,name):\n",
        "    self.name = name\n",
        "  def run(self):\n",
        "    print('차가 달린다..')\n",
        "\n",
        "class Truck(Car) :\n",
        "  def __init__(self,name,capa) :\n",
        "    super().__init__(name)\n",
        "    self.capa = capa\n",
        "  def loat(self) :\n",
        "    print('짐을 실었습니다.')\n",
        "\n"
      ],
      "execution_count": null,
      "outputs": []
    },
    {
      "cell_type": "markdown",
      "metadata": {
        "id": "zVpIpXP02v5_"
      },
      "source": [
        "## 6. List Comprehension (리스트 내포, 조건제시법)"
      ]
    },
    {
      "cell_type": "code",
      "metadata": {
        "colab": {
          "base_uri": "https://localhost:8080/"
        },
        "id": "yAq8LKer3Fhd",
        "outputId": "d3f24808-1a5e-4002-9fa7-4c158ab0ac83"
      },
      "source": [
        "# 원하는 구성 요소를 하나씩 집어 넣는 대신 코드를 이용해 리스트나 딕셔너리를 바로 생성하는 방법\n",
        "\n",
        "# 기본\n",
        "areas = []\n",
        "for i in range(1,11) :\n",
        "  areas = areas + [i*i]\n",
        "print(areas)\n",
        "\n",
        "# comprehension(조건제시법)으로 만들어보자\n",
        "print([i*i for i in range(1,11)])\n",
        "print([i*i for i in range(1,11) if i % 2 == 0])\n",
        "\n",
        "# print([    i*i      for i in range(1,11)                              if i % 2 == 0    ])\n",
        "#          원소의 값    어떤 i에 대해 i*i를 계산할지 조건을 정하는 부분             짝수라는 조건 제시\n",
        "#                     for 반복문을 돌면서 i*i를 계싼한 값이 리스트의 원소가 된다.\n",
        "\n",
        "# 조건제시법은 간단한 조건 일때만 사용한당.."
      ],
      "execution_count": null,
      "outputs": [
        {
          "output_type": "stream",
          "name": "stdout",
          "text": [
            "[1, 4, 9, 16, 25, 36, 49, 64, 81, 100]\n",
            "[1, 4, 9, 16, 25, 36, 49, 64, 81, 100]\n",
            "[4, 16, 36, 64, 100]\n"
          ]
        }
      ]
    },
    {
      "cell_type": "code",
      "metadata": {
        "colab": {
          "base_uri": "https://localhost:8080/"
        },
        "id": "sd8bHic58oPC",
        "outputId": "e1f796fe-8255-41b5-9abd-3a01936da7d5"
      },
      "source": [
        "# Quiz ) 조건제시법으로 1부터 100사이에 있는 8의 배수를 원소로 갖는 리스트를 만드세요\n",
        "print([i for i in range(1,101) if i % 8 == 0])"
      ],
      "execution_count": null,
      "outputs": [
        {
          "output_type": "stream",
          "name": "stdout",
          "text": [
            "[8, 16, 24, 32, 40, 48, 56, 64, 72, 80, 88, 96]\n"
          ]
        }
      ]
    },
    {
      "cell_type": "code",
      "metadata": {
        "colab": {
          "base_uri": "https://localhost:8080/"
        },
        "id": "G8LfOoZh9QsV",
        "outputId": "f2ed7046-f00a-45a7-a77f-bd66be646f22"
      },
      "source": [
        "# 딕셔너리의 조건제시법\n",
        "\n",
        "# 기본 (list)\n",
        "students = ['공지철','박보검','박서준','조정석','정경호','전미도']\n",
        "\n",
        "for num,name in enumerate(students) :\n",
        "  print('{}번의 이름은 {}입니다.'.format(num+1,name))\n",
        "\n",
        "print()\n",
        "# enumerate를 이용해서 list를 딕셔너리로 변환\n",
        "#                    [    i*i                  for i in range(1,11)  if i % 2 == 0    ]\n",
        "student_dict = {\"{}번\".format(number+1) : name for number,name in enumerate(students)}\n",
        "print(student_dict)"
      ],
      "execution_count": null,
      "outputs": [
        {
          "output_type": "stream",
          "name": "stdout",
          "text": [
            "1번의 이름은 공지철입니다.\n",
            "2번의 이름은 박보검입니다.\n",
            "3번의 이름은 박서준입니다.\n",
            "4번의 이름은 조정석입니다.\n",
            "5번의 이름은 정경호입니다.\n",
            "6번의 이름은 전미도입니다.\n",
            "\n",
            "{'1번': '공지철', '2번': '박보검', '3번': '박서준', '4번': '조정석', '5번': '정경호', '6번': '전미도'}\n"
          ]
        }
      ]
    },
    {
      "cell_type": "code",
      "metadata": {
        "colab": {
          "base_uri": "https://localhost:8080/"
        },
        "id": "0HY-0PEjBz0P",
        "outputId": "4df74a1c-1462-423c-fcf2-96d2e4db94ee"
      },
      "source": [
        "# zip()를 이용해서 list 2개를 딕셔너리로 엮어준다\n",
        "students = ['공지철','박보검','박서준','조정석','정경호','전미도']\n",
        "score = [90,98,97,100,96,92,93]\n",
        "\n",
        "for x,y in zip(students, score) :\n",
        "  print(x,y,end=' ')\n",
        "\n",
        "print()\n",
        "# 사실은 zip()함수는 두개 이상의 리스트를 모두 엮어서 튜플로 만드는 함수이다.\n",
        "for x in zip(students, score) :\n",
        "  print(x, end=' ')\n",
        "\n",
        "print()\n",
        "# zip()을 이용한 딕셔너리 조건제시법\n",
        "score_dic = {students : score for students,score in zip(students,score)}\n",
        "print(score_dic)"
      ],
      "execution_count": null,
      "outputs": [
        {
          "output_type": "stream",
          "name": "stdout",
          "text": [
            "공지철 90 박보검 98 박서준 97 조정석 100 정경호 96 전미도 92 \n",
            "('공지철', 90) ('박보검', 98) ('박서준', 97) ('조정석', 100) ('정경호', 96) ('전미도', 92) \n",
            "{'공지철': 90, '박보검': 98, '박서준': 97, '조정석': 100, '정경호': 96, '전미도': 92}\n"
          ]
        }
      ]
    },
    {
      "cell_type": "code",
      "metadata": {
        "colab": {
          "base_uri": "https://localhost:8080/"
        },
        "id": "sAB311kxECMG",
        "outputId": "2b21b323-97fd-4bce-babd-a4db803b8c1d"
      },
      "source": [
        "# 날짜와 시간\n",
        "# 파이썬에서 날짜와 시간을 다루는 방법을 살펴보자\n",
        "# 파이썬에서는 datetime 라이브러리를 사용하여 날짜와 시간을 다룰 수 있다.\n",
        "\n",
        "import datetime\n",
        "print(datetime.datetime.now())  # 년 월 일 시 분 초 마이크로초(100만분의 1초) -> 로컬시간으로 나온다..\n",
        "\n",
        "stime = datetime.datetime.now()\n",
        "print(stime.replace(hour = 14))  # 시간,년도 등 변경이 가능하다. 근데 복잡하다..\n",
        "\n",
        "ntime = datetime.datetime(2021,12,25)\n",
        "print(ntime)      # 임의로 변경 가능하다.\n"
      ],
      "execution_count": null,
      "outputs": [
        {
          "output_type": "stream",
          "name": "stdout",
          "text": [
            "2021-09-09 05:47:13.962424\n",
            "2021-09-09 14:47:13.964356\n",
            "2021-12-25 00:00:00\n"
          ]
        }
      ]
    },
    {
      "cell_type": "code",
      "metadata": {
        "colab": {
          "base_uri": "https://localhost:8080/"
        },
        "id": "U93eT5qfF5k5",
        "outputId": "ae75e784-0315-4070-aff8-d1d328afb84c"
      },
      "source": [
        "# 날짜를 계산해보자\n",
        "christmas = ntime - stime\n",
        "print(christmas)"
      ],
      "execution_count": null,
      "outputs": [
        {
          "output_type": "stream",
          "name": "stdout",
          "text": [
            "106 days, 18:12:46.035644\n"
          ]
        }
      ]
    }
  ]
}