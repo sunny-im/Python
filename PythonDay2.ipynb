{
  "nbformat": 4,
  "nbformat_minor": 0,
  "metadata": {
    "colab": {
      "name": "PythonDay2.ipynb",
      "provenance": [],
      "collapsed_sections": []
    },
    "kernelspec": {
      "name": "python3",
      "display_name": "Python 3"
    },
    "language_info": {
      "name": "python"
    }
  },
  "cells": [
    {
      "cell_type": "code",
      "metadata": {
        "id": "fAMwiyLb6WNh",
        "colab": {
          "base_uri": "https://localhost:8080/"
        },
        "outputId": "77d85593-540d-4630-b4f3-316b34f0cb55"
      },
      "source": [
        "# 커피 자판기 \n",
        "# 남은 커피가 있으면 판매 -> 판매 -> 더 이상 커피가 없으면 판매 중지\n",
        "\n",
        "coffee = 10\n",
        "money = 300\n",
        "\n",
        "while money:\n",
        "  print(\"커피를 판매합니다.\")\n",
        "  coffee -= 1  # coffee = coffee - 1\n",
        "  print(\"남은 커피의 양은 %d개 입니다.\" %coffee)\n",
        "  if coffee == 0:\n",
        "    print (\"커피가 다 떨어졌습니다. 판매를 중지합니다.\")\n",
        "    break"
      ],
      "execution_count": 2,
      "outputs": [
        {
          "output_type": "stream",
          "name": "stdout",
          "text": [
            "커피를 판매합니다.\n",
            "남은 커피의 양은 9개 입니다.\n",
            "커피를 판매합니다.\n",
            "남은 커피의 양은 8개 입니다.\n",
            "커피를 판매합니다.\n",
            "남은 커피의 양은 7개 입니다.\n",
            "커피를 판매합니다.\n",
            "남은 커피의 양은 6개 입니다.\n",
            "커피를 판매합니다.\n",
            "남은 커피의 양은 5개 입니다.\n",
            "커피를 판매합니다.\n",
            "남은 커피의 양은 4개 입니다.\n",
            "커피를 판매합니다.\n",
            "남은 커피의 양은 3개 입니다.\n",
            "커피를 판매합니다.\n",
            "남은 커피의 양은 2개 입니다.\n",
            "커피를 판매합니다.\n",
            "남은 커피의 양은 1개 입니다.\n",
            "커피를 판매합니다.\n",
            "남은 커피의 양은 0개 입니다.\n",
            "커피가 다 떨어졌습니다. 판매를 중지합니다.\n"
          ]
        }
      ]
    },
    {
      "cell_type": "code",
      "metadata": {
        "colab": {
          "base_uri": "https://localhost:8080/"
        },
        "id": "1N8j9JnqOfnE",
        "outputId": "6af1868b-26c9-45dc-ddd8-5b31d4424570"
      },
      "source": [
        "coffee = 10  # 커피 1잔에 300원 일 때\n",
        "while True :\n",
        "  money = int(input(\"돈을 넣어 주세요\"))\n",
        "  if money == 300:\n",
        "    print(\"커피를 드립니다.\")\n",
        "    coffee -= 1\n",
        "  elif money > 300:\n",
        "    print(\"거스름돈 %d를 주고 커피를 드립니다.\"%(money-300))\n",
        "    coffee -= 1\n",
        "  else :\n",
        "    print(\"돈을 다시 돌려 드리고, 커피는 드리지 않습니다.\")\n",
        "    print(\"남은 커피의 양은 %d개 입니다.\"%coffee)\n",
        "  if coffee == 0 :\n",
        "    print(\"커피가 다 떨어졌습니다.판매 중지 합니다.\")\n",
        "    break   # break문을 만나면 if문 종료"
      ],
      "execution_count": 3,
      "outputs": [
        {
          "output_type": "stream",
          "name": "stdout",
          "text": [
            "돈을 넣어 주세요500\n",
            "거스름돈 200를 주고 커피를 드립니다.\n",
            "돈을 넣어 주세요600\n",
            "거스름돈 300를 주고 커피를 드립니다.\n",
            "돈을 넣어 주세요300\n",
            "커피를 드립니다.\n",
            "돈을 넣어 주세요700\n",
            "거스름돈 400를 주고 커피를 드립니다.\n",
            "돈을 넣어 주세요800\n",
            "거스름돈 500를 주고 커피를 드립니다.\n",
            "돈을 넣어 주세요600\n",
            "거스름돈 300를 주고 커피를 드립니다.\n",
            "돈을 넣어 주세요1000\n",
            "거스름돈 700를 주고 커피를 드립니다.\n",
            "돈을 넣어 주세요800\n",
            "거스름돈 500를 주고 커피를 드립니다.\n",
            "돈을 넣어 주세요900\n",
            "거스름돈 600를 주고 커피를 드립니다.\n",
            "돈을 넣어 주세요1000\n",
            "거스름돈 700를 주고 커피를 드립니다.\n",
            "커피가 다 떨어졌습니다.판매 중지 합니다.\n"
          ]
        }
      ]
    },
    {
      "cell_type": "code",
      "metadata": {
        "colab": {
          "base_uri": "https://localhost:8080/"
        },
        "id": "grcrPAsvQU_F",
        "outputId": "8e546982-2ebe-476e-a624-76b978da2c50"
      },
      "source": [
        "a = 0\n",
        "while a < 10:\n",
        "  a+=1\n",
        "  if a % 2 == 0: \n",
        "    continue   # continue를 만나는 순간 밑으로 빠지지 않고 다시 반복문 수행\n",
        "  print(a)"
      ],
      "execution_count": 9,
      "outputs": [
        {
          "output_type": "stream",
          "name": "stdout",
          "text": [
            "1\n",
            "3\n",
            "5\n",
            "7\n",
            "9\n"
          ]
        }
      ]
    },
    {
      "cell_type": "code",
      "metadata": {
        "colab": {
          "base_uri": "https://localhost:8080/"
        },
        "id": "Iw93_06zRepj",
        "outputId": "bf87bf68-bc7d-45d2-fc12-6dc660be6a37"
      },
      "source": [
        "# For 반복문\n",
        "# 파이썬의 직관적인 특징을 잘 보여주는 것이 For문이다.\n",
        "# while문과 비슷하지만 for문은 매우 많이 싸용되고 문장 구조가 한눈에 파악하기 쉽다.\n",
        "\n",
        "list = [1,2,3,4,5]\n",
        "for i in list:\n",
        "  print(i)\n"
      ],
      "execution_count": 10,
      "outputs": [
        {
          "output_type": "stream",
          "name": "stdout",
          "text": [
            "1\n",
            "2\n",
            "3\n",
            "4\n",
            "5\n"
          ]
        }
      ]
    },
    {
      "cell_type": "code",
      "metadata": {
        "colab": {
          "base_uri": "https://localhost:8080/"
        },
        "id": "fSqfzEwXSsXI",
        "outputId": "62406c86-1885-4f24-a476-862148d60dcc"
      },
      "source": [
        "# 리스트 안에 있는 튜플\n",
        "a = [(1,2),(3,4),(5,6)]\n",
        "\n",
        "for x,y in a :\n",
        "  print(x+y)"
      ],
      "execution_count": 12,
      "outputs": [
        {
          "output_type": "stream",
          "name": "stdout",
          "text": [
            "3\n",
            "7\n",
            "11\n"
          ]
        }
      ]
    },
    {
      "cell_type": "code",
      "metadata": {
        "colab": {
          "base_uri": "https://localhost:8080/"
        },
        "id": "dyGbd9kqTkOU",
        "outputId": "61bfcacf-b9fb-4099-ffb6-4a732b728d9e"
      },
      "source": [
        "# Quiz 5명의 학생 점수에서 60점이 넘으면 합격 아니면 불합격을 출력하세요\n",
        "score = [90,70,60,50,40,80]\n",
        "n = 0 \n",
        "\n",
        "for i in score:\n",
        "  n +=1\n",
        "  if i >= 60 :\n",
        "    print(\"%d번 학생은 합격입니다.\"%n)\n",
        "  else :\n",
        "    print(\"%d번 학생은 불합격입니다.\"%n)\n",
        "\n"
      ],
      "execution_count": 27,
      "outputs": [
        {
          "output_type": "stream",
          "name": "stdout",
          "text": [
            "1번 학생은 합격입니다.\n",
            "2번 학생은 합격입니다.\n",
            "3번 학생은 합격입니다.\n",
            "4번 학생은 불합격입니다.\n",
            "5번 학생은 불합격입니다.\n",
            "6번 학생은 합격입니다.\n"
          ]
        }
      ]
    },
    {
      "cell_type": "code",
      "metadata": {
        "colab": {
          "base_uri": "https://localhost:8080/"
        },
        "id": "kxap-AYpV5jK",
        "outputId": "1c76dedb-33d6-44d9-c042-2cabe871d67a"
      },
      "source": [
        "score = [90,70,60,50,40,80]\n",
        "n = 0 \n",
        "\n",
        "for i in score:\n",
        "  n +=1\n",
        "  if i < 60 : continue\n",
        "  print(\"%d번 학생은 합격입니다.\"%n)"
      ],
      "execution_count": 29,
      "outputs": [
        {
          "output_type": "stream",
          "name": "stdout",
          "text": [
            "1번 학생은 합격입니다.\n",
            "2번 학생은 합격입니다.\n",
            "3번 학생은 합격입니다.\n",
            "6번 학생은 합격입니다.\n"
          ]
        }
      ]
    },
    {
      "cell_type": "code",
      "metadata": {
        "colab": {
          "base_uri": "https://localhost:8080/"
        },
        "id": "NKcMqvWAYjuh",
        "outputId": "193554d6-6f2e-4bb0-aeaa-5caeec1c2337"
      },
      "source": [
        "# range 함수와 for문\n",
        "# range(start. stop, step)  # start를 생략하면 0부터, step이 1일경우 생략가능, 그 외에 적으면 step만큼 증가\n",
        "\n",
        "for i in range(11):     # 1부터 11전까지 \n",
        "  print(i)"
      ],
      "execution_count": 35,
      "outputs": [
        {
          "output_type": "stream",
          "name": "stdout",
          "text": [
            "0\n",
            "1\n",
            "2\n",
            "3\n",
            "4\n",
            "5\n",
            "6\n",
            "7\n",
            "8\n",
            "9\n",
            "10\n"
          ]
        }
      ]
    },
    {
      "cell_type": "code",
      "metadata": {
        "colab": {
          "base_uri": "https://localhost:8080/"
        },
        "id": "v8wUKez4Z1aJ",
        "outputId": "ba2c14e2-2c45-4c9a-cca1-88756b64867e"
      },
      "source": [
        "#Quiz  for문과 range를 이용해서 구구단을 표시하세요\n",
        "\n",
        "for i in range(2,10):\n",
        "  for j in range (1,10) :\n",
        "    print(i*j,end= \" \")\n",
        "  print(\"\")"
      ],
      "execution_count": 49,
      "outputs": [
        {
          "output_type": "stream",
          "name": "stdout",
          "text": [
            "2 4 6 8 10 12 14 16 18 \n",
            "3 6 9 12 15 18 21 24 27 \n",
            "4 8 12 16 20 24 28 32 36 \n",
            "5 10 15 20 25 30 35 40 45 \n",
            "6 12 18 24 30 36 42 48 54 \n",
            "7 14 21 28 35 42 49 56 63 \n",
            "8 16 24 32 40 48 56 64 72 \n",
            "9 18 27 36 45 54 63 72 81 \n"
          ]
        }
      ]
    },
    {
      "cell_type": "code",
      "metadata": {
        "colab": {
          "base_uri": "https://localhost:8080/"
        },
        "id": "UeXM1sexblU7",
        "outputId": "0f409601-f981-4f84-96af-7c657fdac20f"
      },
      "source": [
        "# List comprehension (리스트 내포)\n",
        "\n",
        "# without\n",
        "a = [1,2,3,4]\n",
        "result = []\n",
        "\n",
        "for n in a :\n",
        "  result.append(n*3)\n",
        "\n",
        "print(result)"
      ],
      "execution_count": 50,
      "outputs": [
        {
          "output_type": "stream",
          "name": "stdout",
          "text": [
            "[3, 6, 9, 12]\n"
          ]
        }
      ]
    },
    {
      "cell_type": "code",
      "metadata": {
        "colab": {
          "base_uri": "https://localhost:8080/"
        },
        "id": "nnSRQU50cgk5",
        "outputId": "d0818260-10e5-457b-f320-414caa7d40d7"
      },
      "source": [
        "# with\n",
        "a = [1,2,3,4]\n",
        "result = [n * 3 for n in a]\n",
        "print(result)"
      ],
      "execution_count": 51,
      "outputs": [
        {
          "output_type": "stream",
          "name": "stdout",
          "text": [
            "[3, 6, 9, 12]\n"
          ]
        }
      ]
    },
    {
      "cell_type": "code",
      "metadata": {
        "colab": {
          "base_uri": "https://localhost:8080/"
        },
        "id": "tlHk3pCedhw5",
        "outputId": "db24f074-9884-4f67-bc40-5013607c2c27"
      },
      "source": [
        "a = [1,2,3,4]\n",
        "result = [n * 3 for n in a if n % 2 == 0]\n",
        "print(result)"
      ],
      "execution_count": 52,
      "outputs": [
        {
          "output_type": "stream",
          "name": "stdout",
          "text": [
            "[6, 12]\n"
          ]
        }
      ]
    },
    {
      "cell_type": "code",
      "metadata": {
        "colab": {
          "base_uri": "https://localhost:8080/"
        },
        "id": "mPaPalI0eUcY",
        "outputId": "4fc0c85d-9998-40ed-e94a-88adf14ac16a"
      },
      "source": [
        "#Quia for문을 사용해서 1부터 100까지의 자연수 중 짝수의 합\n",
        "n = 1\n",
        "sum = 0\n",
        "\n",
        "for n in range(1,101):\n",
        "  if n%2 ==0:\n",
        "    sum +=n\n",
        "\n",
        "print(sum)\n"
      ],
      "execution_count": 60,
      "outputs": [
        {
          "output_type": "stream",
          "name": "stdout",
          "text": [
            "2550\n"
          ]
        }
      ]
    },
    {
      "cell_type": "code",
      "metadata": {
        "colab": {
          "base_uri": "https://localhost:8080/"
        },
        "id": "kQvC6DFMfVDi",
        "outputId": "9ce84283-2531-418a-aae6-1c2cf7a8af78"
      },
      "source": [
        "# while을 이용해서 아래 그림을 표사하세요\n",
        "'''\n",
        "*\n",
        "**\n",
        "***\n",
        "****\n",
        "*****\n",
        "'''\n",
        "\n",
        "while i <= 5:\n",
        "  print('*'*i)\n",
        "  i+=1\n",
        "\n"
      ],
      "execution_count": 72,
      "outputs": [
        {
          "output_type": "stream",
          "name": "stdout",
          "text": [
            "*\n",
            "**\n",
            "***\n",
            "****\n",
            "*****\n"
          ]
        }
      ]
    },
    {
      "cell_type": "code",
      "metadata": {
        "colab": {
          "base_uri": "https://localhost:8080/"
        },
        "id": "4gp4ZN8vh01t",
        "outputId": "1bf4e92e-6d46-4c25-9d15-1c31eb34d421"
      },
      "source": [
        "#for 문을 사용하여 총 10명의 학생들의 중간고사 평균점수를 구하세요\n",
        "\n",
        "score=[70,60,55,75,95,90,80,80,85,100]\n",
        "total = 0\n",
        "\n",
        "for i in score:\n",
        "  total += i\n",
        "  \n",
        "print((total)/len(score))\n"
      ],
      "execution_count": 86,
      "outputs": [
        {
          "output_type": "stream",
          "name": "stdout",
          "text": [
            "79.0\n"
          ]
        }
      ]
    },
    {
      "cell_type": "code",
      "metadata": {
        "colab": {
          "base_uri": "https://localhost:8080/"
        },
        "id": "BOLXUcS60URw",
        "outputId": "d7c5a858-6c31-4c1a-ce71-27165b75616d"
      },
      "source": [
        "#리스트에서 홀수만 2을 곱하여 result 리스트로 저장\n",
        "\n",
        "n = [1,2,3,4,5]\n",
        "result = [i*2 for i in n if i%2!=0]\n",
        "print(result)\n"
      ],
      "execution_count": 91,
      "outputs": [
        {
          "output_type": "stream",
          "name": "stdout",
          "text": [
            "[2, 6, 10]\n"
          ]
        }
      ]
    },
    {
      "cell_type": "markdown",
      "metadata": {
        "id": "T0dwjPgI1c1-"
      },
      "source": [
        "함수란!!\n",
        "\n",
        "과일 -> 믹서기 -> 과일주스\n",
        "\n",
        "바나나 -> 믹서기 -> 바나나주스 \n",
        "\n",
        "사과 -> 믹서기 -> 사과주스\n",
        "\n",
        "왜 사용하는가 !!\n",
        "\n",
        "항상 반복되는 코드를 매번 작성하는 것보다 그것들을 묶어서 함수로 만들면 쉽고 편하게 재활용 사용할 수 있다.\n",
        "\n",
        "기본형\n",
        "\n",
        "- def 함수명(변수) :\n",
        "    수행\n",
        "    수행\n",
        "    수행\n",
        "    return 값\n",
        "\n",
        "\n",
        "def add(a,b):\n",
        "\n",
        "  return a+b\n",
        "\n",
        "이 함수의 이름은 add이고 입력으로 2개의 값을 받아서 그 두개를 더한 값을 돌려준다.\n"
      ]
    },
    {
      "cell_type": "code",
      "metadata": {
        "colab": {
          "base_uri": "https://localhost:8080/"
        },
        "id": "jX3CY_5c3Mba",
        "outputId": "1aaa64ea-32fc-4ae2-f372-723fa765bff1"
      },
      "source": [
        "#1. 입력값도 있고 출력값도 있는 함수  \n",
        "\n",
        "def add(a,b):     # a,b는 매개변수 (진짜 값을 받는 변수)\n",
        "  return a+b\n",
        "\n",
        "c = add(3,4)      # 3,4는 인수 (진짜 들어가는 값)\n",
        "print(c)"
      ],
      "execution_count": 94,
      "outputs": [
        {
          "output_type": "stream",
          "name": "stdout",
          "text": [
            "7\n"
          ]
        }
      ]
    },
    {
      "cell_type": "code",
      "metadata": {
        "id": "Tl7HNimn4Ekt"
      },
      "source": [
        "'''\n",
        "4가지 함수의 형태\n",
        "\n",
        "1. 입력값도 있고 출력값도 있는 함수   ** 가장 보통으 함수\n",
        "2. 입력값은 있고 출력값은 없는 함수\n",
        "3. 입력값은 없고 출력값은 있는 함수\n",
        "4. 입력값도 없고 출력값도 없는 함수\n",
        "\n",
        "결과값은 오직 return으로만 돌려받는다.\n",
        "'''\n"
      ],
      "execution_count": null,
      "outputs": []
    },
    {
      "cell_type": "code",
      "metadata": {
        "colab": {
          "base_uri": "https://localhost:8080/"
        },
        "id": "PAZXF71a4odU",
        "outputId": "de0a74e3-a2e8-4827-e82f-16aae5dee444"
      },
      "source": [
        "# 2. 입력값은 있고 출력값은 없는 함수\n",
        "def say(a):\n",
        "  print(a)\n",
        "\n",
        "\n",
        "print(say(\"Hi\"))  # retrun값이 었어서 None"
      ],
      "execution_count": 98,
      "outputs": [
        {
          "output_type": "stream",
          "name": "stdout",
          "text": [
            "Hi\n",
            "None\n"
          ]
        }
      ]
    },
    {
      "cell_type": "code",
      "metadata": {
        "colab": {
          "base_uri": "https://localhost:8080/"
        },
        "id": "_AVsQ6007x3R",
        "outputId": "1cc5fcad-f19e-4574-845a-d9699e312c91"
      },
      "source": [
        "def add(a,b):\n",
        "  print(\"%d,%d의 합은 %d입니다.\"%(a,b,a+b))\n",
        "\n",
        "add(3,4)\n",
        "\n",
        "#결과값은 오직 return 으로만 돌려받는다."
      ],
      "execution_count": 109,
      "outputs": [
        {
          "output_type": "stream",
          "name": "stdout",
          "text": [
            "3,4의 합은 7입니다.\n"
          ]
        }
      ]
    },
    {
      "cell_type": "code",
      "metadata": {
        "colab": {
          "base_uri": "https://localhost:8080/",
          "height": 35
        },
        "id": "PcSPN_CP5Iyb",
        "outputId": "92c72ce4-568e-43b2-d021-97b4388b6f8d"
      },
      "source": [
        "# 3. 입력값은 없고 출력값은 있는 함수\n",
        "def say():\n",
        "  return 'Hi'\n",
        "\n",
        "say()  "
      ],
      "execution_count": 99,
      "outputs": [
        {
          "output_type": "execute_result",
          "data": {
            "application/vnd.google.colaboratory.intrinsic+json": {
              "type": "string"
            },
            "text/plain": [
              "'Hi'"
            ]
          },
          "metadata": {},
          "execution_count": 99
        }
      ]
    },
    {
      "cell_type": "code",
      "metadata": {
        "colab": {
          "base_uri": "https://localhost:8080/"
        },
        "id": "jCsAR0925d_4",
        "outputId": "e43183df-e9e7-432e-f344-7e6a47132a46"
      },
      "source": [
        "# 4. 입력값도 없고 출력값도 없는 함수\n",
        "def say():\n",
        "  print(\"Hi\")\n",
        "\n",
        "say()"
      ],
      "execution_count": 100,
      "outputs": [
        {
          "output_type": "stream",
          "name": "stdout",
          "text": [
            "Hi\n"
          ]
        }
      ]
    },
    {
      "cell_type": "code",
      "metadata": {
        "colab": {
          "base_uri": "https://localhost:8080/"
        },
        "id": "d67Alztl5yJz",
        "outputId": "0f147356-f648-40e4-eb9a-79cb0201f11a"
      },
      "source": [
        "def add(a,b):\n",
        "  return a+b\n",
        "\n",
        "r = add(b=5, a=3)\n",
        "print(r)"
      ],
      "execution_count": 103,
      "outputs": [
        {
          "output_type": "stream",
          "name": "stdout",
          "text": [
            "8\n"
          ]
        }
      ]
    },
    {
      "cell_type": "code",
      "metadata": {
        "colab": {
          "base_uri": "https://localhost:8080/"
        },
        "id": "d6SPaBGo6C-c",
        "outputId": "3b91b670-385c-4944-f8b1-79f2674ecf8e"
      },
      "source": [
        "# 입력이 몇개가 될 지 모를때\n",
        "\n",
        "def add_many(*args):\n",
        "  result = 0\n",
        "  for i in args:\n",
        "    result = result + i\n",
        "  return result\n",
        "\n",
        "add_many(1,2,3,4,5)"
      ],
      "execution_count": 107,
      "outputs": [
        {
          "output_type": "execute_result",
          "data": {
            "text/plain": [
              "15"
            ]
          },
          "metadata": {},
          "execution_count": 107
        }
      ]
    },
    {
      "cell_type": "code",
      "metadata": {
        "colab": {
          "base_uri": "https://localhost:8080/"
        },
        "id": "9cO1T9wj8is7",
        "outputId": "0695f9b3-adb9-4181-c68a-0eb463206642"
      },
      "source": [
        "# 함수의 결과값은 언제나 하나이다. \n",
        "def add_mul(a,b):\n",
        "  return a+b, a*b\n",
        "\n",
        "result = add_mul(3,4)\n",
        "print(result,type(result))\n",
        "\n",
        "# 튜플값 하나로 반환된다."
      ],
      "execution_count": 116,
      "outputs": [
        {
          "output_type": "stream",
          "name": "stdout",
          "text": [
            "(7, 12) <class 'tuple'>\n"
          ]
        }
      ]
    },
    {
      "cell_type": "code",
      "metadata": {
        "colab": {
          "base_uri": "https://localhost:8080/"
        },
        "id": "obZL8YG99LQa",
        "outputId": "628534b1-ca30-4ef9-c5c4-c3aa9b19a611"
      },
      "source": [
        "result1, result2 = add_mul(3,4)\n",
        "print(result1,type(result1))\n",
        "print(result2)\n"
      ],
      "execution_count": 117,
      "outputs": [
        {
          "output_type": "stream",
          "name": "stdout",
          "text": [
            "7 <class 'int'>\n",
            "12\n"
          ]
        }
      ]
    },
    {
      "cell_type": "code",
      "metadata": {
        "colab": {
          "base_uri": "https://localhost:8080/"
        },
        "id": "Gb9hKe5h9x_w",
        "outputId": "64297b94-1737-4161-85de-2983b1ddbd35"
      },
      "source": [
        "def add_mul(a,b):\n",
        "  return a+b\n",
        "  return a*b    # 실행 조차 안한다..\n",
        "\n",
        "result = add_mul(3,4)\n",
        "print(result)"
      ],
      "execution_count": 118,
      "outputs": [
        {
          "output_type": "stream",
          "name": "stdout",
          "text": [
            "7\n"
          ]
        }
      ]
    },
    {
      "cell_type": "code",
      "metadata": {
        "colab": {
          "base_uri": "https://localhost:8080/"
        },
        "id": "T60zmfEJ-FFU",
        "outputId": "d0c45e35-c0b4-4dad-f8de-8f5bbec32cd4"
      },
      "source": [
        "def say(name, old, man=True):\n",
        "  print(\"나의 이름은 %s 입니다.\" %name)\n",
        "  print(\"나의 나이는 %d살 입니다.\" %old)\n",
        "  if man:\n",
        "    print(\"남자입니다.\")\n",
        "  else :\n",
        "    print(\"여자입니다.\")\n",
        "\n",
        "print(say(\"홍길동\",20))\n",
        "print(say(\"성춘향\",18,False))\n"
      ],
      "execution_count": 122,
      "outputs": [
        {
          "output_type": "stream",
          "name": "stdout",
          "text": [
            "나의 이름은 홍길동 입니다.\n",
            "나의 나이는 20살 입니다.\n",
            "남자입니다.\n",
            "None\n",
            "나의 이름은 성춘향 입니다.\n",
            "나의 나이는 18살 입니다.\n",
            "여자입니다.\n",
            "None\n"
          ]
        }
      ]
    },
    {
      "cell_type": "code",
      "metadata": {
        "colab": {
          "base_uri": "https://localhost:8080/",
          "height": 130
        },
        "id": "8QiRhHGR_LtH",
        "outputId": "21d42bd3-098d-4468-ebdc-93115820be86"
      },
      "source": [
        "def say(name, man=True, old):\n",
        "  print(\"나의 이름은 %s 입니다.\" %name)\n",
        "  \n",
        "  if man:\n",
        "    print(\"남자입니다.\")\n",
        "  else :\n",
        "    print(\"여자입니다.\")\n",
        "\n",
        "  print(\"나의 나이는 %d살 입니다.\" %old)\n",
        "\n",
        "print(say(\"홍길동\",20))\n",
        "\n",
        "# 초기값 설정은 항상 끝에 해야한다."
      ],
      "execution_count": 123,
      "outputs": [
        {
          "output_type": "error",
          "ename": "SyntaxError",
          "evalue": "ignored",
          "traceback": [
            "\u001b[0;36m  File \u001b[0;32m\"<ipython-input-123-aafb0826270d>\"\u001b[0;36m, line \u001b[0;32m1\u001b[0m\n\u001b[0;31m    def say(name, man=True, old):\u001b[0m\n\u001b[0m           ^\u001b[0m\n\u001b[0;31mSyntaxError\u001b[0m\u001b[0;31m:\u001b[0m non-default argument follows default argument\n"
          ]
        }
      ]
    },
    {
      "cell_type": "code",
      "metadata": {
        "colab": {
          "base_uri": "https://localhost:8080/"
        },
        "id": "2DRi1Ic1_iMD",
        "outputId": "c45b4ad4-1086-443c-979b-45e8b6ea2331"
      },
      "source": [
        "# 함수에서 선언한 변수의 효력 범위\n",
        "\n",
        "a = 1\n",
        "def vartest(a):\n",
        "  a = a+1   # 2\n",
        "  print(a)  # 2\n",
        "\n",
        "vartest(a)\n",
        "print(a)  # 1...? 당연히 변수 값에 1을 더했으니 2가 출력될 것으로 보였지만 결과는 1이 나온다...\n",
        "          # 그 이유는 함수 안에서 새로 만든 매개변수는 함수 안에서만 사용하는 함수만의 변수이다. -> 지역변수 local !=  전역변수 global"
      ],
      "execution_count": 125,
      "outputs": [
        {
          "output_type": "stream",
          "name": "stdout",
          "text": [
            "2\n",
            "1\n"
          ]
        }
      ]
    },
    {
      "cell_type": "code",
      "metadata": {
        "colab": {
          "base_uri": "https://localhost:8080/",
          "height": 198
        },
        "id": "BlDZh5PKG_jJ",
        "outputId": "908b940d-b7ac-4274-886b-cfaec02ae99a"
      },
      "source": [
        "def vartest(z):\n",
        "  z = z + 1\n",
        "\n",
        "vartest(3)\n",
        "print(z)   # NameError: name 'z' is not defined  z는 아예 정의조차 안되있다 !!\n",
        "\n",
        "# 함수 안에서 선언한 매개변수는 함수 안에서만 사용된다.  아주 중요 !!!!!"
      ],
      "execution_count": 128,
      "outputs": [
        {
          "output_type": "error",
          "ename": "NameError",
          "evalue": "ignored",
          "traceback": [
            "\u001b[0;31m---------------------------------------------------------------------------\u001b[0m",
            "\u001b[0;31mNameError\u001b[0m                                 Traceback (most recent call last)",
            "\u001b[0;32m<ipython-input-128-9cc8c4e4a669>\u001b[0m in \u001b[0;36m<module>\u001b[0;34m()\u001b[0m\n\u001b[1;32m      3\u001b[0m \u001b[0;34m\u001b[0m\u001b[0m\n\u001b[1;32m      4\u001b[0m \u001b[0mvartest\u001b[0m\u001b[0;34m(\u001b[0m\u001b[0;36m3\u001b[0m\u001b[0;34m)\u001b[0m\u001b[0;34m\u001b[0m\u001b[0;34m\u001b[0m\u001b[0m\n\u001b[0;32m----> 5\u001b[0;31m \u001b[0mprint\u001b[0m\u001b[0;34m(\u001b[0m\u001b[0mz\u001b[0m\u001b[0;34m)\u001b[0m\u001b[0;34m\u001b[0m\u001b[0;34m\u001b[0m\u001b[0m\n\u001b[0m",
            "\u001b[0;31mNameError\u001b[0m: name 'z' is not defined"
          ]
        }
      ]
    },
    {
      "cell_type": "code",
      "metadata": {
        "colab": {
          "base_uri": "https://localhost:8080/"
        },
        "id": "n8_jimNtHul9",
        "outputId": "5853a85e-7039-4de2-95d3-0477b45ba951"
      },
      "source": [
        "a = 1\n",
        "def vartest(a):\n",
        "  a = a + 1\n",
        "  return a     # return값이 있어야 밖으로 나갈 수 있다...\n",
        "\n",
        "a = vartest(a)\n",
        "print(a)"
      ],
      "execution_count": 129,
      "outputs": [
        {
          "output_type": "stream",
          "name": "stdout",
          "text": [
            "2\n"
          ]
        }
      ]
    },
    {
      "cell_type": "code",
      "metadata": {
        "colab": {
          "base_uri": "https://localhost:8080/"
        },
        "id": "uOGPDaLkIGMp",
        "outputId": "ccec99ae-d77d-4fc7-eaad-d57e8fc2c552"
      },
      "source": [
        "a = 1\n",
        "def vartest():\n",
        "  global a\n",
        "  a = a + 1\n",
        "\n",
        "vartest()\n",
        "print(2)\n",
        "\n",
        "# 전역변수 선언은 함수 밖에서도 직접 사용하겠다는 의미이다.\n",
        "# 전역 변수는 사용하지 않는 것이 좋다.\n"
      ],
      "execution_count": 130,
      "outputs": [
        {
          "output_type": "stream",
          "name": "stdout",
          "text": [
            "2\n"
          ]
        }
      ]
    },
    {
      "cell_type": "code",
      "metadata": {
        "colab": {
          "base_uri": "https://localhost:8080/"
        },
        "id": "JiC8na8iJAtV",
        "outputId": "838aefa4-8d8d-447e-ba5c-e8b3d4255002"
      },
      "source": [
        "# 람다함수 lambda\n",
        "# def와 동일한 역할을 한다. 보통 함수를 한줄로 간단하게 만들 때 사용한다.\n",
        "\n",
        "def add(a,b):\n",
        "  return a+b\n",
        "\n",
        "r = add(3,4)\n",
        "print(r)       # 보통 함수 사용"
      ],
      "execution_count": 131,
      "outputs": [
        {
          "output_type": "stream",
          "name": "stdout",
          "text": [
            "7\n"
          ]
        }
      ]
    },
    {
      "cell_type": "code",
      "metadata": {
        "colab": {
          "base_uri": "https://localhost:8080/"
        },
        "id": "3vWbn9efJo2w",
        "outputId": "0d19e644-213f-425f-b0ce-aafaaaa37fc7"
      },
      "source": [
        "# 람다 사용                lambda 변수1, 변수2, 변수3 ... : 변수를 이용한 식\n",
        "\n",
        "add = lambda a,b : a+b\n",
        "r=add(3,4)\n",
        "print(r)"
      ],
      "execution_count": 132,
      "outputs": [
        {
          "output_type": "stream",
          "name": "stdout",
          "text": [
            "7\n"
          ]
        }
      ]
    },
    {
      "cell_type": "code",
      "metadata": {
        "colab": {
          "base_uri": "https://localhost:8080/"
        },
        "id": "9j5GxjBVKaWe",
        "outputId": "74ddc5b2-c227-475a-eaf6-2804590f5292"
      },
      "source": [
        "# 사용자 입출력(input)\n",
        "\n",
        "\n",
        "a = input()\n",
        "\n",
        "type(a)\n",
        "\n",
        "# input으로 입력 받는 모든 값은 일단 str !!!!!!"
      ],
      "execution_count": 134,
      "outputs": [
        {
          "name": "stdout",
          "output_type": "stream",
          "text": [
            "123\n"
          ]
        },
        {
          "output_type": "execute_result",
          "data": {
            "text/plain": [
              "str"
            ]
          },
          "metadata": {},
          "execution_count": 134
        }
      ]
    },
    {
      "cell_type": "code",
      "metadata": {
        "colab": {
          "base_uri": "https://localhost:8080/"
        },
        "id": "9_AXO9m8K0v4",
        "outputId": "d42fbeb9-b494-4703-ff04-962052821975"
      },
      "source": [
        "a = int(input())\n",
        "\n",
        "type(a)\n"
      ],
      "execution_count": 135,
      "outputs": [
        {
          "name": "stdout",
          "output_type": "stream",
          "text": [
            "123\n"
          ]
        },
        {
          "output_type": "execute_result",
          "data": {
            "text/plain": [
              "int"
            ]
          },
          "metadata": {},
          "execution_count": 135
        }
      ]
    },
    {
      "cell_type": "code",
      "metadata": {
        "colab": {
          "base_uri": "https://localhost:8080/"
        },
        "id": "bJw-GozXLJ9U",
        "outputId": "b8cfa0b2-04e9-4450-9d74-c3f6893366af"
      },
      "source": [
        "# 숫자를 입력받아서 그 숫자가 홀수 인지 짝수 인지 판별해 주는 함수를 만들어 보자.\n",
        "\n",
        "\n",
        "def number(a):\n",
        "   if (a % 2 == 0) :\n",
        "    print(\"짝수\")\n",
        "   else :\n",
        "    print(\"홀수\")\n",
        "\n",
        "number(int(input()))"
      ],
      "execution_count": 150,
      "outputs": [
        {
          "output_type": "stream",
          "name": "stdout",
          "text": [
            "5\n",
            "홀수\n"
          ]
        }
      ]
    },
    {
      "cell_type": "code",
      "metadata": {
        "colab": {
          "base_uri": "https://localhost:8080/"
        },
        "id": "VOBSP_lHMqeE",
        "outputId": "443f3d9b-4167-4c95-8fa6-df33500d7be1"
      },
      "source": [
        "# 입력으로 들어오는 모든 수의 평균을 계산하는 함수(입력개수는 미지정)\n",
        "\n",
        "# avg(1,2,3)\n",
        "# avg(1,2,3,4,5,6)\n",
        "\n",
        "def avg(*args) :\n",
        "  result = 0\n",
        "  for i in args:\n",
        "    result += i\n",
        "  return result /len(args)\n",
        "\n",
        "print(avg(1,2,3))\n",
        "print(avg(1,2,3,4,5,6))"
      ],
      "execution_count": 183,
      "outputs": [
        {
          "output_type": "stream",
          "name": "stdout",
          "text": [
            "2.0\n",
            "3.5\n"
          ]
        }
      ]
    },
    {
      "cell_type": "code",
      "metadata": {
        "colab": {
          "base_uri": "https://localhost:8080/"
        },
        "id": "7mFTLia5QqTY",
        "outputId": "cb15f10f-1142-4824-c2cf-2bc9c984d9a5"
      },
      "source": [
        "def add_mul(choice,*args) :\n",
        "  if choice == \"add\" :\n",
        "    result = 0\n",
        "    for i in args:\n",
        "      result += i\n",
        "  elif choice == \"mul\" :\n",
        "    result = 1\n",
        "    for i in args :\n",
        "      result *= i\n",
        "  return result\n",
        "\n",
        "print(add_mul('add',1,2,3,4,5))\n",
        "print(add_mul('mul',2,5))"
      ],
      "execution_count": 188,
      "outputs": [
        {
          "output_type": "stream",
          "name": "stdout",
          "text": [
            "15\n",
            "10\n"
          ]
        }
      ]
    },
    {
      "cell_type": "code",
      "metadata": {
        "id": "d7wyX1eBSkAK"
      },
      "source": [
        "# 파일 읽고 쓰기\n",
        "\n",
        "# 파일 생성\n",
        "\n",
        "f = open(\"파일이름.txt\",'w')\n",
        "f.close()\n",
        "\n",
        "# w 쓰기  r 읽기   a 추가"
      ],
      "execution_count": 191,
      "outputs": []
    },
    {
      "cell_type": "code",
      "metadata": {
        "id": "-EeP5o4MTmhT"
      },
      "source": [
        "f = open(\"새파일.txt\",'w')\n",
        "for i in range(1,11):\n",
        "  data = \"%d번째 줄입니다.\\n\" %i\n",
        "  f.write(data)\n",
        "f.close()"
      ],
      "execution_count": 195,
      "outputs": []
    },
    {
      "cell_type": "code",
      "metadata": {
        "colab": {
          "base_uri": "https://localhost:8080/"
        },
        "id": "Dh1jWW8xdqKR",
        "outputId": "54fe58ce-77f3-4d3c-b573-10efa026bfcb"
      },
      "source": [
        "f = open(\"새파일.txt\",'r')\n",
        "line = f.readline()\n",
        "print(line)\n",
        "f.close()"
      ],
      "execution_count": 196,
      "outputs": [
        {
          "output_type": "stream",
          "name": "stdout",
          "text": [
            "1번째 줄입니다.\n",
            "\n"
          ]
        }
      ]
    },
    {
      "cell_type": "code",
      "metadata": {
        "colab": {
          "base_uri": "https://localhost:8080/"
        },
        "id": "jeSl1knVeB1_",
        "outputId": "d9264c79-fabe-4ad1-9228-8490bec3e511"
      },
      "source": [
        "# readline() 한줄한줄 읽어오기\n",
        "f = open(\"새파일.txt\",'r')\n",
        "\n",
        "while True:\n",
        "  line = f.readline()\n",
        "  if not line : break\n",
        "  print(line)\n",
        "\n",
        "f.close()"
      ],
      "execution_count": 197,
      "outputs": [
        {
          "output_type": "stream",
          "name": "stdout",
          "text": [
            "1번째 줄입니다.\n",
            "\n",
            "2번째 줄입니다.\n",
            "\n",
            "3번째 줄입니다.\n",
            "\n",
            "4번째 줄입니다.\n",
            "\n",
            "5번째 줄입니다.\n",
            "\n",
            "6번째 줄입니다.\n",
            "\n",
            "7번째 줄입니다.\n",
            "\n",
            "8번째 줄입니다.\n",
            "\n",
            "9번째 줄입니다.\n",
            "\n",
            "10번째 줄입니다.\n",
            "\n"
          ]
        }
      ]
    },
    {
      "cell_type": "code",
      "metadata": {
        "colab": {
          "base_uri": "https://localhost:8080/"
        },
        "id": "MjCoMYFdeT7J",
        "outputId": "981a304a-2e74-40c8-96d4-bda540a00fff"
      },
      "source": [
        "#readlines() : 파일의 모든 줄을 다 읽어서 각각의 줄의 요소로하는 리스트로 돌려준다.\n",
        "\n",
        "f = open(\"새파일.txt\",'r')\n",
        "lines = f.readlines()\n",
        "for line in lines:\n",
        "  print(line)\n",
        "\n",
        "f.close()"
      ],
      "execution_count": 199,
      "outputs": [
        {
          "output_type": "stream",
          "name": "stdout",
          "text": [
            "1번째 줄입니다.\n",
            "\n",
            "2번째 줄입니다.\n",
            "\n",
            "3번째 줄입니다.\n",
            "\n",
            "4번째 줄입니다.\n",
            "\n",
            "5번째 줄입니다.\n",
            "\n",
            "6번째 줄입니다.\n",
            "\n",
            "7번째 줄입니다.\n",
            "\n",
            "8번째 줄입니다.\n",
            "\n",
            "9번째 줄입니다.\n",
            "\n",
            "10번째 줄입니다.\n",
            "\n"
          ]
        }
      ]
    },
    {
      "cell_type": "code",
      "metadata": {
        "colab": {
          "base_uri": "https://localhost:8080/"
        },
        "id": "mYnhNCuie-Fu",
        "outputId": "dbd6c3d8-7fb0-436d-9ee1-11bc6bfbfe3e"
      },
      "source": [
        "f = open(\"새파일.txt\",'r')\n",
        "lines = f.readlines()\n",
        "for line in lines:\n",
        "  line = line.strip()        # 여백을 다 자르는 함수\n",
        "  print(line)\n",
        "\n",
        "f.close()"
      ],
      "execution_count": 200,
      "outputs": [
        {
          "output_type": "stream",
          "name": "stdout",
          "text": [
            "1번째 줄입니다.\n",
            "2번째 줄입니다.\n",
            "3번째 줄입니다.\n",
            "4번째 줄입니다.\n",
            "5번째 줄입니다.\n",
            "6번째 줄입니다.\n",
            "7번째 줄입니다.\n",
            "8번째 줄입니다.\n",
            "9번째 줄입니다.\n",
            "10번째 줄입니다.\n"
          ]
        }
      ]
    },
    {
      "cell_type": "code",
      "metadata": {
        "colab": {
          "base_uri": "https://localhost:8080/"
        },
        "id": "Bc36zODofd15",
        "outputId": "e940570c-978d-445c-98f5-7497ba3201d9"
      },
      "source": [
        "# read() : 파일 내용 전체를 문자열로 돌려준다\n",
        "\n",
        "f = open(\"새파일.txt\",'r')\n",
        "lines = f.read()\n",
        "print(lines)\n",
        "f.close()"
      ],
      "execution_count": 201,
      "outputs": [
        {
          "output_type": "stream",
          "name": "stdout",
          "text": [
            "1번째 줄입니다.\n",
            "2번째 줄입니다.\n",
            "3번째 줄입니다.\n",
            "4번째 줄입니다.\n",
            "5번째 줄입니다.\n",
            "6번째 줄입니다.\n",
            "7번째 줄입니다.\n",
            "8번째 줄입니다.\n",
            "9번째 줄입니다.\n",
            "10번째 줄입니다.\n",
            "\n"
          ]
        }
      ]
    },
    {
      "cell_type": "code",
      "metadata": {
        "id": "Xv6QipDgfppA"
      },
      "source": [
        "#수정\n",
        "f=open(\"새파일.txt\",'a')\n",
        "for i in range (11,20):\n",
        "  data = \"%d번째 줄입니다.\\n\" %i\n",
        "  f.write(data)\n",
        "\n",
        "f.close()"
      ],
      "execution_count": 202,
      "outputs": []
    },
    {
      "cell_type": "code",
      "metadata": {
        "id": "1HBj6iE2fcwZ"
      },
      "source": [
        "# with\n",
        "# 파일을 사용 후에는 항상 닫아줘야 한다. \n",
        "# 자동으로 닫으면 편하다. \n",
        "\n",
        "with open(\"새파일.txt\",'w') as f :\n",
        "    f.write(\"No pain No gain\")\n",
        "\n"
      ],
      "execution_count": 207,
      "outputs": []
    },
    {
      "cell_type": "code",
      "metadata": {
        "colab": {
          "base_uri": "https://localhost:8080/"
        },
        "id": "c1KHYSbdhYNJ",
        "outputId": "40d969d7-80ca-4d74-9556-1b8cceeb5486"
      },
      "source": [
        "# 두 수를 입력받아 합계를 계산\n",
        "\n",
        "input1 = int(input())\n",
        "input2 = int(input())\n",
        "\n",
        "print(\"첫번째 숫자 : %d\" %input1)\n",
        "print(\"두번째 숫자 : %d\" %input2)\n",
        "print(\"두 수의 합은 %d 입니다.\" %(input1+input2))"
      ],
      "execution_count": 211,
      "outputs": [
        {
          "output_type": "stream",
          "name": "stdout",
          "text": [
            "3\n",
            "5\n",
            "첫번째 숫자 : 3\n",
            "두번째 숫자 : 5\n",
            "두 수의 합은 8 입니다.\n"
          ]
        }
      ]
    },
    {
      "cell_type": "code",
      "metadata": {
        "id": "I_uxTsiBjDu8"
      },
      "source": [
        "# 클래스\n",
        "# C언어에는 클래스가 없다. 객체지향이 없다.\n",
        "# 클래스는 반드시 필요한 것은 아니지만 사용한다면 얻을 수 있는 이익이 상당하다."
      ],
      "execution_count": null,
      "outputs": []
    },
    {
      "cell_type": "code",
      "metadata": {
        "colab": {
          "base_uri": "https://localhost:8080/"
        },
        "id": "J-VvJMYgk4E3",
        "outputId": "2bd6fa93-e210-4d29-e095-aa1d85d32503"
      },
      "source": [
        "# 계산기\n",
        "\n",
        "result1 = 0\n",
        "result2 = 0\n",
        "\n",
        "def add1(num):\n",
        "  global result    # 이전에 계산값을 유지하기 위해 전역변수 사용\n",
        "  result += num\n",
        "  return result\n",
        "\n",
        "def add2(num) :\n",
        "  global result2\n",
        "  result2 += num\n",
        "  return result2\n",
        "\n",
        "print(add1(3))\n",
        "print(add1(4))\n",
        "print(add1(5))\n",
        "print()\n",
        "print(add2(3))\n",
        "print(add2(4))\n",
        "print(add2(5))\n",
        "\n"
      ],
      "execution_count": 214,
      "outputs": [
        {
          "output_type": "stream",
          "name": "stdout",
          "text": [
            "27\n",
            "31\n",
            "36\n",
            "\n",
            "3\n",
            "7\n",
            "12\n"
          ]
        }
      ]
    },
    {
      "cell_type": "code",
      "metadata": {
        "colab": {
          "base_uri": "https://localhost:8080/"
        },
        "id": "SErxxE3_mgJZ",
        "outputId": "95c0059b-102f-4019-c2a6-ff816d45afb9"
      },
      "source": [
        "class Calculator :\n",
        "  def __init__(self):     # 생성자\n",
        "    self.result = 0\n",
        "\n",
        "  def add(self,num):\n",
        "    self.result += num\n",
        "    return self.result\n",
        "\n",
        "cal1 = Calculator()\n",
        "cal2 = Calculator()\n",
        "\n",
        "print(cal1.add(3))\n",
        "print(cal1.add(4))\n",
        "print(cal1.add(5))\n",
        "print()\n",
        "print(cal2.add(3))\n",
        "print(cal2.add(4))\n",
        "print(cal2.add(5))"
      ],
      "execution_count": 219,
      "outputs": [
        {
          "output_type": "stream",
          "name": "stdout",
          "text": [
            "3\n",
            "7\n",
            "12\n",
            "\n",
            "3\n",
            "7\n",
            "12\n"
          ]
        }
      ]
    }
  ]
}